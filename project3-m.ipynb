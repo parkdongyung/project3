{
 "cells": [
  {
   "cell_type": "code",
   "execution_count": 1,
   "id": "0b216678-89a6-47e0-ae7b-c1eda04288e0",
   "metadata": {},
   "outputs": [],
   "source": [
    "import numpy as np\n",
    "from scipy import stats\n",
    "import pandas as pd\n",
    "import matplotlib.pyplot as plt\n",
    "import seaborn as sns\n",
    "from statsmodels.stats.proportion import proportions_ztest\n",
    "import matplotlib\n",
    "matplotlib.rc('font', family = 'Malgun Gothic')\n",
    "matplotlib.rc('axes', unicode_minus = False)\n",
    "%matplotlib inline\n",
    "import warnings\n",
    "warnings.filterwarnings('ignore')\n",
    "from sklearn.model_selection import train_test_split\n",
    "from statsmodels.api import qqplot, add_constant\n",
    "import statsmodels.formula.api as smf\n",
    "from statsmodels.tools.eval_measures import rmse\n",
    "from sklearn.metrics import r2_score\n",
    "from statsmodels.stats.outliers_influence import variance_inflation_factor\n",
    "from pmdarima import auto_arima"
   ]
  },
  {
   "cell_type": "markdown",
   "id": "5e704013-157a-421a-83a1-243213c45038",
   "metadata": {
    "jp-MarkdownHeadingCollapsed": true
   },
   "source": [
    "# 확인1"
   ]
  },
  {
   "cell_type": "code",
   "execution_count": 2,
   "id": "b7d9d728-5a65-4f67-8007-0cf19a568297",
   "metadata": {},
   "outputs": [],
   "source": [
    "# CSV 파일을 데이터프레임으로 불러오기\n",
    "sales_data = pd.read_csv('C:/Users/campus4D045/Desktop/data/sales_data.csv')\n",
    "member_data = pd.read_csv('C:/Users/campus4D045/Desktop/data/member_data.csv')\n",
    "product_data = pd.read_csv('C:/Users/campus4D045/Desktop/data/product_data.csv')"
   ]
  },
  {
   "cell_type": "code",
   "execution_count": 398,
   "id": "010e7b6f-5df0-445b-a3b9-1802173e8712",
   "metadata": {},
   "outputs": [
    {
     "data": {
      "text/html": [
       "<div>\n",
       "<style scoped>\n",
       "    .dataframe tbody tr th:only-of-type {\n",
       "        vertical-align: middle;\n",
       "    }\n",
       "\n",
       "    .dataframe tbody tr th {\n",
       "        vertical-align: top;\n",
       "    }\n",
       "\n",
       "    .dataframe thead th {\n",
       "        text-align: right;\n",
       "    }\n",
       "</style>\n",
       "<table border=\"1\" class=\"dataframe\">\n",
       "  <thead>\n",
       "    <tr style=\"text-align: right;\">\n",
       "      <th></th>\n",
       "      <th>회원번호</th>\n",
       "      <th>회원상태</th>\n",
       "      <th>구매수량</th>\n",
       "      <th>구매금액</th>\n",
       "      <th>주문일시</th>\n",
       "      <th>배송시작일</th>\n",
       "      <th>배송완료일</th>\n",
       "      <th>사용 적립금</th>\n",
       "      <th>사용 포인트 네이버</th>\n",
       "      <th>주문취소여부</th>\n",
       "      <th>주문시간</th>\n",
       "      <th>제품번호</th>\n",
       "      <th>배송기간</th>\n",
       "      <th>오전오후</th>\n",
       "    </tr>\n",
       "  </thead>\n",
       "  <tbody>\n",
       "    <tr>\n",
       "      <th>0</th>\n",
       "      <td>1032097472</td>\n",
       "      <td>정상회원</td>\n",
       "      <td>1.0</td>\n",
       "      <td>7083</td>\n",
       "      <td>2022-01-08</td>\n",
       "      <td>NaT</td>\n",
       "      <td>NaT</td>\n",
       "      <td>0</td>\n",
       "      <td>0</td>\n",
       "      <td>주문취소</td>\n",
       "      <td>13:00:00</td>\n",
       "      <td>100021783V2_1337</td>\n",
       "      <td>NaT</td>\n",
       "      <td>오후</td>\n",
       "    </tr>\n",
       "    <tr>\n",
       "      <th>1</th>\n",
       "      <td>1032097472</td>\n",
       "      <td>정상회원</td>\n",
       "      <td>1.0</td>\n",
       "      <td>29865</td>\n",
       "      <td>2022-01-08</td>\n",
       "      <td>2022-01-08</td>\n",
       "      <td>2022-01-08</td>\n",
       "      <td>0</td>\n",
       "      <td>0</td>\n",
       "      <td>NaN</td>\n",
       "      <td>13:00:00</td>\n",
       "      <td>100022137V2_1606</td>\n",
       "      <td>0 days</td>\n",
       "      <td>오후</td>\n",
       "    </tr>\n",
       "    <tr>\n",
       "      <th>2</th>\n",
       "      <td>1032097472</td>\n",
       "      <td>정상회원</td>\n",
       "      <td>1.0</td>\n",
       "      <td>23164</td>\n",
       "      <td>2022-01-08</td>\n",
       "      <td>2022-01-08</td>\n",
       "      <td>2022-01-09</td>\n",
       "      <td>0</td>\n",
       "      <td>0</td>\n",
       "      <td>NaN</td>\n",
       "      <td>13:00:00</td>\n",
       "      <td>100021452V2_1113</td>\n",
       "      <td>1 days</td>\n",
       "      <td>오후</td>\n",
       "    </tr>\n",
       "    <tr>\n",
       "      <th>3</th>\n",
       "      <td>369152832</td>\n",
       "      <td>정상회원</td>\n",
       "      <td>1.0</td>\n",
       "      <td>16655</td>\n",
       "      <td>2022-01-08</td>\n",
       "      <td>2022-01-08</td>\n",
       "      <td>2022-01-09</td>\n",
       "      <td>0</td>\n",
       "      <td>0</td>\n",
       "      <td>NaN</td>\n",
       "      <td>13:00:00</td>\n",
       "      <td>10002931V2_708</td>\n",
       "      <td>1 days</td>\n",
       "      <td>오후</td>\n",
       "    </tr>\n",
       "    <tr>\n",
       "      <th>4</th>\n",
       "      <td>1032097472</td>\n",
       "      <td>정상회원</td>\n",
       "      <td>1.0</td>\n",
       "      <td>8423</td>\n",
       "      <td>2022-01-08</td>\n",
       "      <td>NaT</td>\n",
       "      <td>NaT</td>\n",
       "      <td>0</td>\n",
       "      <td>0</td>\n",
       "      <td>주문취소</td>\n",
       "      <td>13:00:00</td>\n",
       "      <td>100022085V2_1559</td>\n",
       "      <td>NaT</td>\n",
       "      <td>오후</td>\n",
       "    </tr>\n",
       "  </tbody>\n",
       "</table>\n",
       "</div>"
      ],
      "text/plain": [
       "         회원번호  회원상태  구매수량   구매금액       주문일시      배송시작일      배송완료일  사용 적립금  \\\n",
       "0  1032097472  정상회원   1.0   7083 2022-01-08        NaT        NaT       0   \n",
       "1  1032097472  정상회원   1.0  29865 2022-01-08 2022-01-08 2022-01-08       0   \n",
       "2  1032097472  정상회원   1.0  23164 2022-01-08 2022-01-08 2022-01-09       0   \n",
       "3   369152832  정상회원   1.0  16655 2022-01-08 2022-01-08 2022-01-09       0   \n",
       "4  1032097472  정상회원   1.0   8423 2022-01-08        NaT        NaT       0   \n",
       "\n",
       "   사용 포인트 네이버 주문취소여부      주문시간              제품번호   배송기간 오전오후  \n",
       "0           0   주문취소  13:00:00  100021783V2_1337    NaT   오후  \n",
       "1           0    NaN  13:00:00  100022137V2_1606 0 days   오후  \n",
       "2           0    NaN  13:00:00  100021452V2_1113 1 days   오후  \n",
       "3           0    NaN  13:00:00    10002931V2_708 1 days   오후  \n",
       "4           0   주문취소  13:00:00  100022085V2_1559    NaT   오후  "
      ]
     },
     "execution_count": 398,
     "metadata": {},
     "output_type": "execute_result"
    }
   ],
   "source": [
    "sales_data.head()"
   ]
  },
  {
   "cell_type": "code",
   "execution_count": 397,
   "id": "d4b8f1c5-a2cf-4f5d-a236-665b6d87d157",
   "metadata": {},
   "outputs": [
    {
     "name": "stdout",
     "output_type": "stream",
     "text": [
      "CSV 파일이 C:/Users/campus4D045/Desktop/data/sales_data1.csv 경로에 저장되었습니다.\n"
     ]
    }
   ],
   "source": [
    "# CSV 파일로 추출\n",
    "file_path = 'C:/Users/campus4D045/Desktop/data/sales_data1.csv'\n",
    "sales_data.to_csv(file_path, index=False, encoding='utf-8')\n",
    "\n",
    "# 확인 메시지 출력\n",
    "print(f\"CSV 파일이 {file_path} 경로에 저장되었습니다.\")"
   ]
  },
  {
   "cell_type": "markdown",
   "id": "9d277140-1a8c-4d76-8938-8f56f1c58c77",
   "metadata": {
    "jp-MarkdownHeadingCollapsed": true
   },
   "source": [
    "# sales_data 주문일시, 배송시작일, 배송완료일 datetime\n",
    "# 주문시간 범주화\n",
    "# 배송기간"
   ]
  },
  {
   "cell_type": "code",
   "execution_count": 301,
   "id": "85de534a-2c80-447d-9e00-b492e51126e0",
   "metadata": {},
   "outputs": [
    {
     "name": "stdout",
     "output_type": "stream",
     "text": [
      "<class 'pandas.core.frame.DataFrame'>\n",
      "RangeIndex: 668111 entries, 0 to 668110\n",
      "Data columns (total 14 columns):\n",
      " #   Column      Non-Null Count   Dtype          \n",
      "---  ------      --------------   -----          \n",
      " 0   회원번호        668111 non-null  int64          \n",
      " 1   회원상태        668109 non-null  object         \n",
      " 2   구매수량        668111 non-null  float64        \n",
      " 3   구매금액        668111 non-null  int64          \n",
      " 4   주문일시        668111 non-null  datetime64[ns] \n",
      " 5   배송시작일       637476 non-null  datetime64[ns] \n",
      " 6   배송완료일       637476 non-null  datetime64[ns] \n",
      " 7   사용 적립금      668111 non-null  int64          \n",
      " 8   사용 포인트 네이버  668111 non-null  int64          \n",
      " 9   주문취소여부      30635 non-null   object         \n",
      " 10  주문시간        668111 non-null  object         \n",
      " 11  제품번호        668111 non-null  object         \n",
      " 12  배송기간        637476 non-null  timedelta64[ns]\n",
      " 13  오전오후        668111 non-null  object         \n",
      "dtypes: datetime64[ns](3), float64(1), int64(4), object(5), timedelta64[ns](1)\n",
      "memory usage: 71.4+ MB\n"
     ]
    }
   ],
   "source": [
    "sales_data.info()"
   ]
  },
  {
   "cell_type": "code",
   "execution_count": 367,
   "id": "334090de-0cd6-42bf-857d-c7b6addf2400",
   "metadata": {},
   "outputs": [],
   "source": [
    "# '주문일시' 열을 datetime 형식으로 변환\n",
    "sales_data['주문일시'] = pd.to_datetime(sales_data['주문일시'])\n",
    "\n",
    "# '배송시작일' 열을 datetime 형식으로 변환\n",
    "sales_data['배송시작일'] = pd.to_datetime(sales_data['배송시작일'])\n",
    "\n",
    "# '배송완료일' 열을 datetime 형식으로 변환\n",
    "sales_data['배송완료일'] = pd.to_datetime(sales_data['배송완료일'])"
   ]
  },
  {
   "cell_type": "code",
   "execution_count": 368,
   "id": "be5e7b6a-2810-43cc-96eb-4658e9ddbe43",
   "metadata": {},
   "outputs": [],
   "source": [
    "sales_data['배송기간'] = sales_data['배송완료일'] - sales_data['배송시작일']"
   ]
  },
  {
   "cell_type": "code",
   "execution_count": 369,
   "id": "e0da86c0-1b77-487c-b185-53f5ee722a3e",
   "metadata": {},
   "outputs": [],
   "source": [
    "# '오전'/'오후' 부분 추출하여 '오전오후' 열 생성\n",
    "sales_data['오전오후'] = sales_data['주문시간'].str.split(' ').str[0]\n",
    "\n",
    "# 시간 부분 추출하여 '주문시간' 열 갱신\n",
    "sales_data['주문시간'] = sales_data['주문시간'].str.split(' ').str[1]"
   ]
  },
  {
   "cell_type": "code",
   "execution_count": 370,
   "id": "41f4709b-a90f-4d84-8213-4cda29be44f4",
   "metadata": {},
   "outputs": [],
   "source": [
    "# 유효한 시간 형식으로 변환하는 함수 정의\n",
    "def correct_time_format(time_str):\n",
    "    hours, minutes = map(int, time_str.split(':'))\n",
    "    if minutes >= 60:\n",
    "        hours += minutes // 60\n",
    "        minutes = minutes % 60\n",
    "    return f'{hours:02}:{minutes:02}'\n",
    "\n",
    "# '주문시간' 열을 유효한 시간 형식으로 변환\n",
    "sales_data['주문시간'] = sales_data['주문시간'].apply(correct_time_format)\n",
    "\n",
    "# '주문시간'을 datetime 형식으로 변환 후 시간 부분만 추출\n",
    "sales_data['주문시간'] = pd.to_datetime(sales_data['주문시간'], format='%H:%M').dt.time"
   ]
  },
  {
   "cell_type": "code",
   "execution_count": 371,
   "id": "91836be0-771f-4f52-9e1f-c2babf6e024a",
   "metadata": {
    "scrolled": true
   },
   "outputs": [
    {
     "name": "stdout",
     "output_type": "stream",
     "text": [
      "Empty DataFrame\n",
      "Columns: [회원번호, 회원상태, 구매수량, 구매금액, 주문일시, 배송시작일, 배송완료일, 사용 적립금, 사용 포인트 네이버, 주문취소여부, 주문시간, 제품번호, 배송기간, 오전오후]\n",
      "Index: []\n"
     ]
    }
   ],
   "source": [
    "# '배송완료일'이 NaN 값인 행만 선택\n",
    "df_nan_배송완료일 = sales_data[sales_data['배송완료일'].isna()]\n",
    "\n",
    "# 그 중에서 '주문취소여부'가 NaN인 행 선택\n",
    "result = df_nan_배송완료일[df_nan_배송완료일['주문취소여부'].isna()]\n",
    "\n",
    "# 결과 출력\n",
    "print(result)"
   ]
  },
  {
   "cell_type": "code",
   "execution_count": 372,
   "id": "69dd97ea-8f26-4824-9757-85aa8453bcea",
   "metadata": {},
   "outputs": [
    {
     "data": {
      "text/plain": [
       "<TimedeltaArray>\n",
       "[NaT, '0 days', '1 days', '2 days', '4 days', '3 days', '5 days']\n",
       "Length: 7, dtype: timedelta64[ns]"
      ]
     },
     "execution_count": 372,
     "metadata": {},
     "output_type": "execute_result"
    }
   ],
   "source": [
    "sales_data['배송기간'].unique()"
   ]
  },
  {
   "cell_type": "markdown",
   "id": "62c96674-32e6-439f-8415-4f3ddc52ffa5",
   "metadata": {
    "jp-MarkdownHeadingCollapsed": true
   },
   "source": [
    "# sales_data 이상치 확인"
   ]
  },
  {
   "cell_type": "code",
   "execution_count": 7,
   "id": "fab23b87-bf98-4997-a602-b6969e4060f2",
   "metadata": {},
   "outputs": [
    {
     "data": {
      "text/plain": [
       "<Axes: >"
      ]
     },
     "execution_count": 7,
     "metadata": {},
     "output_type": "execute_result"
    },
    {
     "data": {
      "image/png": "[encoded data removed]",
      "text/plain": [
       "<Figure size 640x480 with 1 Axes>"
      ]
     },
     "metadata": {},
     "output_type": "display_data"
    }
   ],
   "source": [
    "sales_data.boxplot()"
   ]
  },
  {
   "cell_type": "code",
   "execution_count": 8,
   "id": "8e9f0f18-bead-4a39-b60f-65fba7e5ad59",
   "metadata": {},
   "outputs": [
    {
     "data": {
      "text/plain": [
       "<Axes: >"
      ]
     },
     "execution_count": 8,
     "metadata": {},
     "output_type": "execute_result"
    },
    {
     "data": {
      "image/png": "[encoded data removed]",
      "text/plain": [
       "<Figure size 640x480 with 1 Axes>"
      ]
     },
     "metadata": {},
     "output_type": "display_data"
    }
   ],
   "source": [
    "sales_data.boxplot(['구매수량'])"
   ]
  },
  {
   "cell_type": "code",
   "execution_count": 375,
   "id": "36f04dfa-5527-42cf-bec2-0610e4813163",
   "metadata": {},
   "outputs": [
    {
     "data": {
      "text/html": [
       "<div>\n",
       "<style scoped>\n",
       "    .dataframe tbody tr th:only-of-type {\n",
       "        vertical-align: middle;\n",
       "    }\n",
       "\n",
       "    .dataframe tbody tr th {\n",
       "        vertical-align: top;\n",
       "    }\n",
       "\n",
       "    .dataframe thead th {\n",
       "        text-align: right;\n",
       "    }\n",
       "</style>\n",
       "<table border=\"1\" class=\"dataframe\">\n",
       "  <thead>\n",
       "    <tr style=\"text-align: right;\">\n",
       "      <th></th>\n",
       "      <th>회원번호</th>\n",
       "      <th>회원상태</th>\n",
       "      <th>구매수량</th>\n",
       "      <th>구매금액</th>\n",
       "      <th>주문일시</th>\n",
       "      <th>배송시작일</th>\n",
       "      <th>배송완료일</th>\n",
       "      <th>사용 적립금</th>\n",
       "      <th>사용 포인트 네이버</th>\n",
       "      <th>주문취소여부</th>\n",
       "      <th>주문시간</th>\n",
       "      <th>제품번호</th>\n",
       "      <th>배송기간</th>\n",
       "      <th>오전오후</th>\n",
       "    </tr>\n",
       "  </thead>\n",
       "  <tbody>\n",
       "  </tbody>\n",
       "</table>\n",
       "</div>"
      ],
      "text/plain": [
       "Empty DataFrame\n",
       "Columns: [회원번호, 회원상태, 구매수량, 구매금액, 주문일시, 배송시작일, 배송완료일, 사용 적립금, 사용 포인트 네이버, 주문취소여부, 주문시간, 제품번호, 배송기간, 오전오후]\n",
       "Index: []"
      ]
     },
     "execution_count": 375,
     "metadata": {},
     "output_type": "execute_result"
    }
   ],
   "source": [
    "sales_data[sales_data['구매수량'].apply(lambda x: isinstance(x, float) and not x.is_integer())]"
   ]
  },
  {
   "cell_type": "code",
   "execution_count": 374,
   "id": "0984a466-ab69-4876-9269-b8f216baff96",
   "metadata": {},
   "outputs": [],
   "source": [
    "# 소수인 구매수량 행 필터링\n",
    "mask = sales_data['구매수량'].apply(lambda x: isinstance(x, float) and not x.is_integer())\n",
    "\n",
    "# 소수인 구매수량 행 삭제\n",
    "sales_data = sales_data[~mask]"
   ]
  },
  {
   "cell_type": "code",
   "execution_count": 378,
   "id": "884fbf7a-94f0-4c73-8a5e-645356090309",
   "metadata": {},
   "outputs": [
    {
     "data": {
      "text/plain": [
       "<Axes: >"
      ]
     },
     "execution_count": 378,
     "metadata": {},
     "output_type": "execute_result"
    },
    {
     "data": {
      "image/png": "[encoded data removed]",
      "text/plain": [
       "<Figure size 640x480 with 1 Axes>"
      ]
     },
     "metadata": {},
     "output_type": "display_data"
    }
   ],
   "source": [
    "sales_data.boxplot(['구매금액'])"
   ]
  },
  {
   "cell_type": "code",
   "execution_count": 377,
   "id": "610a4a64-d12c-4444-8ffa-e303969127e4",
   "metadata": {},
   "outputs": [],
   "source": [
    "max_value = sales_data['구매금액'].max()\n",
    "max_value2 = sales_data[sales_data['구매금액'] < max_value]['구매금액'].max()\n",
    "sales_data = sales_data[~sales_data['구매금액'].isin([max_value, max_value2])]"
   ]
  },
  {
   "cell_type": "code",
   "execution_count": 379,
   "id": "2333c139-d963-4437-a4b5-62fe6af5661a",
   "metadata": {},
   "outputs": [
    {
     "data": {
      "text/plain": [
       "1837838"
      ]
     },
     "execution_count": 379,
     "metadata": {},
     "output_type": "execute_result"
    }
   ],
   "source": [
    "sales_data['구매금액'].max()"
   ]
  },
  {
   "cell_type": "code",
   "execution_count": 382,
   "id": "3acbaa2d-0cba-49ab-85f9-e5ee06054bbd",
   "metadata": {},
   "outputs": [
    {
     "data": {
      "text/plain": [
       "<Axes: >"
      ]
     },
     "execution_count": 382,
     "metadata": {},
     "output_type": "execute_result"
    },
    {
     "data": {
      "image/png": "[encoded data removed]",
      "text/plain": [
       "<Figure size 640x480 with 1 Axes>"
      ]
     },
     "metadata": {},
     "output_type": "display_data"
    }
   ],
   "source": [
    "sales_data.boxplot(['사용 적립금'])"
   ]
  },
  {
   "cell_type": "code",
   "execution_count": 235,
   "id": "a4260ee8-24fa-4bfb-ad99-9ab93375b304",
   "metadata": {},
   "outputs": [
    {
     "data": {
      "text/plain": [
       "0"
      ]
     },
     "execution_count": 235,
     "metadata": {},
     "output_type": "execute_result"
    }
   ],
   "source": [
    "sales_data['사용 적립금'].isnull().sum()"
   ]
  },
  {
   "cell_type": "code",
   "execution_count": 381,
   "id": "1d0a8a63-0ef2-459f-b6ff-da607cb21706",
   "metadata": {},
   "outputs": [],
   "source": [
    "max_value = sales_data['사용 적립금'].max()\n",
    "sales_data = sales_data[~sales_data['사용 적립금'].isin([max_value])]"
   ]
  },
  {
   "cell_type": "code",
   "execution_count": 384,
   "id": "33960a42-0c4b-42c3-83fe-c6ed8467bcce",
   "metadata": {},
   "outputs": [
    {
     "data": {
      "text/plain": [
       "<Axes: >"
      ]
     },
     "execution_count": 384,
     "metadata": {},
     "output_type": "execute_result"
    },
    {
     "data": {
      "image/png": "[encoded data removed]",
      "text/plain": [
       "<Figure size 640x480 with 1 Axes>"
      ]
     },
     "metadata": {},
     "output_type": "display_data"
    }
   ],
   "source": [
    "sales_data.boxplot(['사용 포인트 네이버'])"
   ]
  },
  {
   "cell_type": "code",
   "execution_count": 204,
   "id": "a31082fb-48cb-4bf8-918e-97ad907457f4",
   "metadata": {},
   "outputs": [
    {
     "data": {
      "text/plain": [
       "251600"
      ]
     },
     "execution_count": 204,
     "metadata": {},
     "output_type": "execute_result"
    }
   ],
   "source": [
    "sales_data['사용 포인트 네이버'].max()"
   ]
  },
  {
   "cell_type": "code",
   "execution_count": 383,
   "id": "0d70e091-409b-432b-9a27-9166b4642289",
   "metadata": {},
   "outputs": [],
   "source": [
    "max_value = sales_data['사용 포인트 네이버'].max()\n",
    "sales_data = sales_data[~sales_data['사용 포인트 네이버'].isin([max_value])]"
   ]
  },
  {
   "cell_type": "code",
   "execution_count": 385,
   "id": "6ce277ab-8c4e-4405-879d-5f07474b507c",
   "metadata": {},
   "outputs": [],
   "source": [
    "# '회원상태' 열에 NaN이 포함된 행 제거\n",
    "sales_data.dropna(subset=['회원상태'], inplace=True)"
   ]
  },
  {
   "cell_type": "markdown",
   "id": "3d229fb2-6131-467c-816c-1a1d545038f7",
   "metadata": {
    "jp-MarkdownHeadingCollapsed": true
   },
   "source": [
    "# Sales_data 결측치 확인"
   ]
  },
  {
   "cell_type": "code",
   "execution_count": 386,
   "id": "d8f0b735-b9cc-4735-8b18-7eecb428707f",
   "metadata": {},
   "outputs": [
    {
     "data": {
      "text/plain": [
       "0"
      ]
     },
     "execution_count": 386,
     "metadata": {},
     "output_type": "execute_result"
    }
   ],
   "source": [
    "sales_data['회원상태'].isnull().sum()\n",
    "# 비회원 처리"
   ]
  },
  {
   "cell_type": "code",
   "execution_count": 387,
   "id": "0c01d8d6-1524-41d3-9a68-6da7f27af9f7",
   "metadata": {},
   "outputs": [
    {
     "data": {
      "text/plain": [
       "0"
      ]
     },
     "execution_count": 387,
     "metadata": {},
     "output_type": "execute_result"
    }
   ],
   "source": [
    "sales_data['구매수량'].isnull().sum()"
   ]
  },
  {
   "cell_type": "code",
   "execution_count": 388,
   "id": "ed2f458d-d284-4857-b749-73a68bb387a6",
   "metadata": {},
   "outputs": [
    {
     "data": {
      "text/plain": [
       "0"
      ]
     },
     "execution_count": 388,
     "metadata": {},
     "output_type": "execute_result"
    }
   ],
   "source": [
    "sales_data['구매금액'].isnull().sum()"
   ]
  },
  {
   "cell_type": "code",
   "execution_count": 389,
   "id": "0c1d4c25-e203-4c23-9298-cd7d4416633f",
   "metadata": {},
   "outputs": [
    {
     "data": {
      "text/plain": [
       "0"
      ]
     },
     "execution_count": 389,
     "metadata": {},
     "output_type": "execute_result"
    }
   ],
   "source": [
    "sales_data['구매금액'].isnull().sum()"
   ]
  },
  {
   "cell_type": "code",
   "execution_count": 390,
   "id": "b05c7ff4-838d-4906-985e-7232f553149b",
   "metadata": {},
   "outputs": [
    {
     "data": {
      "text/plain": [
       "0"
      ]
     },
     "execution_count": 390,
     "metadata": {},
     "output_type": "execute_result"
    }
   ],
   "source": [
    "sales_data['주문일시'].isnull().sum()"
   ]
  },
  {
   "cell_type": "code",
   "execution_count": 391,
   "id": "c21f1f1a-ece9-4ac0-b122-68a7c2946942",
   "metadata": {},
   "outputs": [
    {
     "data": {
      "text/plain": [
       "30458"
      ]
     },
     "execution_count": 391,
     "metadata": {},
     "output_type": "execute_result"
    }
   ],
   "source": [
    "sales_data['배송시작일'].isnull().sum()"
   ]
  },
  {
   "cell_type": "code",
   "execution_count": 392,
   "id": "841c6ffd-47e6-45a7-b22a-7aa3ec9c7285",
   "metadata": {},
   "outputs": [
    {
     "data": {
      "text/plain": [
       "30458"
      ]
     },
     "execution_count": 392,
     "metadata": {},
     "output_type": "execute_result"
    }
   ],
   "source": [
    "sales_data['배송완료일'].isnull().sum()"
   ]
  },
  {
   "cell_type": "code",
   "execution_count": 393,
   "id": "ce13bbe9-8ed1-45f6-8324-6bd0da9411f5",
   "metadata": {},
   "outputs": [
    {
     "data": {
      "text/plain": [
       "0"
      ]
     },
     "execution_count": 393,
     "metadata": {},
     "output_type": "execute_result"
    }
   ],
   "source": [
    "sales_data['사용 적립금'].isnull().sum()"
   ]
  },
  {
   "cell_type": "code",
   "execution_count": 394,
   "id": "4ddf2b84-120c-4d17-9baf-0cc2f0f35f16",
   "metadata": {},
   "outputs": [
    {
     "data": {
      "text/plain": [
       "0"
      ]
     },
     "execution_count": 394,
     "metadata": {},
     "output_type": "execute_result"
    }
   ],
   "source": [
    "sales_data['사용 포인트 네이버'].isnull().sum()"
   ]
  },
  {
   "cell_type": "code",
   "execution_count": 395,
   "id": "462b9f56-d1f1-488b-b4eb-06bf18154eaa",
   "metadata": {},
   "outputs": [
    {
     "data": {
      "text/plain": [
       "633336"
      ]
     },
     "execution_count": 395,
     "metadata": {},
     "output_type": "execute_result"
    }
   ],
   "source": [
    "sales_data['주문취소여부'].isnull().sum()"
   ]
  },
  {
   "cell_type": "code",
   "execution_count": 396,
   "id": "24ccf6d5-e0d3-4fb2-b1b3-dc308eb1ad50",
   "metadata": {},
   "outputs": [
    {
     "data": {
      "text/plain": [
       "0"
      ]
     },
     "execution_count": 396,
     "metadata": {},
     "output_type": "execute_result"
    }
   ],
   "source": [
    "sales_data['주문시간'].isnull().sum()"
   ]
  },
  {
   "cell_type": "code",
   "execution_count": 216,
   "id": "0fc2a98d-f579-417b-b680-434ad17112dc",
   "metadata": {},
   "outputs": [],
   "source": [
    "# # '회원상태' 열의 NaN, None, 'nan' 값을 '비회원'으로 대치\n",
    "# sales_data['회원상태'] = sales_data['회원상태'].replace(['nan', None, np.nan], '비회원')"
   ]
  },
  {
   "cell_type": "code",
   "execution_count": 222,
   "id": "fc603293-4411-42c7-9d5c-ff6539c108dc",
   "metadata": {},
   "outputs": [],
   "source": [
    "sales_data[sales_data['회원상태'] == '비회원'].dropna(inplace = True)"
   ]
  },
  {
   "cell_type": "code",
   "execution_count": 223,
   "id": "77aca88d-5bd7-403b-8297-7ec9574766df",
   "metadata": {},
   "outputs": [
    {
     "name": "stdout",
     "output_type": "stream",
     "text": [
      "             회원번호 회원상태  구매수량   구매금액       주문일시      배송시작일      배송완료일  사용 적립금  \\\n",
      "224551  409140352  비회원   2.0  26036 2022-04-02 2022-04-02 2022-04-03       0   \n",
      "224554  409140352  비회원   1.0   1149 2022-04-02 2022-04-03 2022-04-03       0   \n",
      "\n",
      "        사용 포인트 네이버 주문취소여부      주문시간              제품번호   배송기간 오전오후  \n",
      "224551           0    nan  07:21:00  100021448V2_1109 1 days   오후  \n",
      "224554           0    nan  07:21:00  100022238V2_1687 0 days   오후  \n"
     ]
    }
   ],
   "source": [
    "print(sales_data[sales_data['회원상태'] == '비회원'])"
   ]
  },
  {
   "cell_type": "markdown",
   "id": "07806b9b-a74d-4b4a-aff8-4164f2191ba6",
   "metadata": {
    "jp-MarkdownHeadingCollapsed": true
   },
   "source": [
    "# member_data 이상치 확인"
   ]
  },
  {
   "cell_type": "code",
   "execution_count": 16,
   "id": "73abbe78-c204-4884-a252-4727dc1ca663",
   "metadata": {},
   "outputs": [
    {
     "data": {
      "text/html": [
       "<div>\n",
       "<style scoped>\n",
       "    .dataframe tbody tr th:only-of-type {\n",
       "        vertical-align: middle;\n",
       "    }\n",
       "\n",
       "    .dataframe tbody tr th {\n",
       "        vertical-align: top;\n",
       "    }\n",
       "\n",
       "    .dataframe thead th {\n",
       "        text-align: right;\n",
       "    }\n",
       "</style>\n",
       "<table border=\"1\" class=\"dataframe\">\n",
       "  <thead>\n",
       "    <tr style=\"text-align: right;\">\n",
       "      <th></th>\n",
       "      <th>회원번호</th>\n",
       "      <th>회원상태</th>\n",
       "      <th>성별</th>\n",
       "      <th>나이</th>\n",
       "      <th>등록카드</th>\n",
       "      <th>결혼</th>\n",
       "      <th>구독여부</th>\n",
       "      <th>주소지</th>\n",
       "      <th>세부주소지</th>\n",
       "    </tr>\n",
       "  </thead>\n",
       "  <tbody>\n",
       "    <tr>\n",
       "      <th>0</th>\n",
       "      <td>18764160</td>\n",
       "      <td>정상회원</td>\n",
       "      <td>여</td>\n",
       "      <td>68</td>\n",
       "      <td>농협중앙회</td>\n",
       "      <td>기혼</td>\n",
       "      <td>False</td>\n",
       "      <td>서울특별시</td>\n",
       "      <td>성동구</td>\n",
       "    </tr>\n",
       "    <tr>\n",
       "      <th>1</th>\n",
       "      <td>18792000</td>\n",
       "      <td>정상회원</td>\n",
       "      <td>남</td>\n",
       "      <td>83</td>\n",
       "      <td>연결앱결제</td>\n",
       "      <td>NaN</td>\n",
       "      <td>False</td>\n",
       "      <td>강원도</td>\n",
       "      <td>강릉시</td>\n",
       "    </tr>\n",
       "    <tr>\n",
       "      <th>2</th>\n",
       "      <td>18942336</td>\n",
       "      <td>정상회원</td>\n",
       "      <td>여</td>\n",
       "      <td>39</td>\n",
       "      <td>신한은행</td>\n",
       "      <td>기혼</td>\n",
       "      <td>False</td>\n",
       "      <td>인천광역시</td>\n",
       "      <td>중구</td>\n",
       "    </tr>\n",
       "    <tr>\n",
       "      <th>3</th>\n",
       "      <td>18949760</td>\n",
       "      <td>정상회원</td>\n",
       "      <td>여</td>\n",
       "      <td>73</td>\n",
       "      <td>기업은행</td>\n",
       "      <td>NaN</td>\n",
       "      <td>NaN</td>\n",
       "      <td>강원도</td>\n",
       "      <td>홍천군</td>\n",
       "    </tr>\n",
       "    <tr>\n",
       "      <th>4</th>\n",
       "      <td>19391488</td>\n",
       "      <td>정상회원</td>\n",
       "      <td>여</td>\n",
       "      <td>52</td>\n",
       "      <td>연결앱결제</td>\n",
       "      <td>기혼</td>\n",
       "      <td>False</td>\n",
       "      <td>대전광역시</td>\n",
       "      <td>중구</td>\n",
       "    </tr>\n",
       "  </tbody>\n",
       "</table>\n",
       "</div>"
      ],
      "text/plain": [
       "       회원번호  회원상태 성별  나이   등록카드   결혼   구독여부    주소지 세부주소지\n",
       "0  18764160  정상회원  여  68  농협중앙회   기혼  False  서울특별시   성동구\n",
       "1  18792000  정상회원  남  83  연결앱결제  NaN  False    강원도   강릉시\n",
       "2  18942336  정상회원  여  39   신한은행   기혼  False  인천광역시    중구\n",
       "3  18949760  정상회원  여  73   기업은행  NaN    NaN    강원도   홍천군\n",
       "4  19391488  정상회원  여  52  연결앱결제   기혼  False  대전광역시    중구"
      ]
     },
     "execution_count": 16,
     "metadata": {},
     "output_type": "execute_result"
    }
   ],
   "source": [
    "member_data.head()"
   ]
  },
  {
   "cell_type": "code",
   "execution_count": 5,
   "id": "f08f00a9-bb00-4fdc-991b-eda7c960a9f7",
   "metadata": {},
   "outputs": [
    {
     "name": "stdout",
     "output_type": "stream",
     "text": [
      "구독여부가 True인 경우의 수: 1753\n",
      "구독여부가 False인 경우의 수: 8441\n"
     ]
    }
   ],
   "source": [
    "# '구독여부'가 True인 경우의 수\n",
    "true_count = member_data[member_data['구독여부'] == True]['회원번호'].nunique()\n",
    "\n",
    "# '구독여부'가 False인 경우의 수\n",
    "false_count = member_data[member_data['구독여부'] == False]['회원번호'].nunique()\n",
    "\n",
    "print(\"구독여부가 True인 경우의 수:\", true_count)\n",
    "print(\"구독여부가 False인 경우의 수:\", false_count)"
   ]
  },
  {
   "cell_type": "code",
   "execution_count": 4,
   "id": "8d6b5201-1d2e-4c7a-a822-17921ecfe838",
   "metadata": {},
   "outputs": [
    {
     "data": {
      "text/plain": [
       "12540"
      ]
     },
     "execution_count": 4,
     "metadata": {},
     "output_type": "execute_result"
    }
   ],
   "source": [
    "member_data['회원번호'].nunique()"
   ]
  },
  {
   "cell_type": "code",
   "execution_count": 271,
   "id": "0f0a97c5-5324-414e-b9c9-c92502f08287",
   "metadata": {},
   "outputs": [
    {
     "data": {
      "text/plain": [
       "2717"
      ]
     },
     "execution_count": 271,
     "metadata": {},
     "output_type": "execute_result"
    }
   ],
   "source": [
    "member_data['결혼'].isnull().sum()"
   ]
  },
  {
   "cell_type": "code",
   "execution_count": 291,
   "id": "9021af1f-2b82-403f-8a36-02ae8b76a0bb",
   "metadata": {},
   "outputs": [
    {
     "data": {
      "text/plain": [
       "array(['기혼', '미확인', '미혼'], dtype=object)"
      ]
     },
     "execution_count": 291,
     "metadata": {},
     "output_type": "execute_result"
    }
   ],
   "source": [
    "member_data['결혼'].unique()"
   ]
  },
  {
   "cell_type": "code",
   "execution_count": 62,
   "id": "075e449f-fc25-4119-b694-54143a731e49",
   "metadata": {
    "collapsed": true,
    "jupyter": {
     "outputs_hidden": true
    },
    "scrolled": true
   },
   "outputs": [
    {
     "data": {
      "text/plain": [
       "0        False\n",
       "1         True\n",
       "2        False\n",
       "3         True\n",
       "4        False\n",
       "         ...  \n",
       "12535    False\n",
       "12536    False\n",
       "12537     True\n",
       "12538    False\n",
       "12539    False\n",
       "Name: 결혼, Length: 12540, dtype: bool"
      ]
     },
     "execution_count": 62,
     "metadata": {},
     "output_type": "execute_result"
    }
   ],
   "source": [
    "# member_data['결혼'] == 'NaN'에 해당하는 사람들 연령 및 처리\n",
    "# 미확인으로 대치"
   ]
  },
  {
   "cell_type": "code",
   "execution_count": 337,
   "id": "ac2badf7-3420-460e-bf0f-cf5c2340c405",
   "metadata": {},
   "outputs": [],
   "source": [
    "# '등록카드' 열의 NaN, None, 'nan' 값을 '무통장계좌이체'으로 대치\n",
    "member_data['결혼'] = member_data['결혼'].replace(['nan', None, np.nan], '미확인')"
   ]
  },
  {
   "cell_type": "code",
   "execution_count": 274,
   "id": "65ebc3e6-e3d2-42ff-8c84-216ca010243f",
   "metadata": {},
   "outputs": [
    {
     "data": {
      "text/plain": [
       "0"
      ]
     },
     "execution_count": 274,
     "metadata": {},
     "output_type": "execute_result"
    }
   ],
   "source": [
    "member_data['회원번호'].isnull().sum()"
   ]
  },
  {
   "cell_type": "code",
   "execution_count": 275,
   "id": "71918cae-3baa-498c-a205-febbdbecb01a",
   "metadata": {},
   "outputs": [
    {
     "data": {
      "text/plain": [
       "1"
      ]
     },
     "execution_count": 275,
     "metadata": {},
     "output_type": "execute_result"
    }
   ],
   "source": [
    "member_data['회원상태'].isnull().sum()"
   ]
  },
  {
   "cell_type": "code",
   "execution_count": 276,
   "id": "34a2dd8f-6ee5-4d41-825c-1d4c8575993e",
   "metadata": {},
   "outputs": [
    {
     "data": {
      "text/plain": [
       "1"
      ]
     },
     "execution_count": 276,
     "metadata": {},
     "output_type": "execute_result"
    }
   ],
   "source": [
    "member_data['성별'].isnull().sum()"
   ]
  },
  {
   "cell_type": "code",
   "execution_count": 277,
   "id": "29191e01-4154-4887-b59f-eadb111aef28",
   "metadata": {},
   "outputs": [
    {
     "data": {
      "text/plain": [
       "0"
      ]
     },
     "execution_count": 277,
     "metadata": {},
     "output_type": "execute_result"
    }
   ],
   "source": [
    "member_data['나이'].isnull().sum()"
   ]
  },
  {
   "cell_type": "code",
   "execution_count": 339,
   "id": "1481e462-29b0-4b30-bfe8-70e018941c19",
   "metadata": {},
   "outputs": [
    {
     "data": {
      "text/plain": [
       "0"
      ]
     },
     "execution_count": 339,
     "metadata": {},
     "output_type": "execute_result"
    }
   ],
   "source": [
    "member_data['결혼'].isnull().sum()"
   ]
  },
  {
   "cell_type": "code",
   "execution_count": 280,
   "id": "15b88e11-2891-4bf4-9700-20ee9362c78a",
   "metadata": {},
   "outputs": [
    {
     "data": {
      "text/plain": [
       "2346"
      ]
     },
     "execution_count": 280,
     "metadata": {},
     "output_type": "execute_result"
    }
   ],
   "source": [
    "member_data['구독여부'].isnull().sum()"
   ]
  },
  {
   "cell_type": "code",
   "execution_count": 283,
   "id": "f22d64f1-e41c-416a-a9b6-fda38f518249",
   "metadata": {},
   "outputs": [
    {
     "data": {
      "text/plain": [
       "9"
      ]
     },
     "execution_count": 283,
     "metadata": {},
     "output_type": "execute_result"
    }
   ],
   "source": [
    "member_data['세부주소지'].isnull().sum()"
   ]
  },
  {
   "cell_type": "code",
   "execution_count": 341,
   "id": "9e6ecb90-15db-4aa6-8ee9-bef1e7fbf18a",
   "metadata": {},
   "outputs": [
    {
     "data": {
      "text/plain": [
       "array(['농협중앙회', '연결앱결제', '신한은행', '기업은행', '롯데카드', '삼성카드', '우체국', '우리은행',\n",
       "       '하나은행', '현대카드', '신한카드', '국민은행', '부산은행', 'BC카드', '씨티은행', '국민카드',\n",
       "       '광주은행', '새마을금고', '신협중앙회', '대구은행', 'SC제일은행', '외환은행', '미래에셋증권',\n",
       "       '경남은행', '무통장계좌이체'], dtype=object)"
      ]
     },
     "execution_count": 341,
     "metadata": {},
     "output_type": "execute_result"
    }
   ],
   "source": [
    "member_data['등록카드'].unique()\n",
    "# nan > 무통장계좌이체"
   ]
  },
  {
   "cell_type": "code",
   "execution_count": 340,
   "id": "c440c88b-8555-449d-a8dd-828178728db4",
   "metadata": {},
   "outputs": [],
   "source": [
    "# '등록카드' 열의 NaN, None, 'nan' 값을 '무통장계좌이체'으로 대치\n",
    "member_data['등록카드'] = member_data['등록카드'].replace(['nan', None, np.nan], '무통장계좌이체')"
   ]
  },
  {
   "cell_type": "code",
   "execution_count": 172,
   "id": "ed55a8fc-3606-4c6c-966b-71452012f709",
   "metadata": {},
   "outputs": [
    {
     "data": {
      "text/plain": [
       "1"
      ]
     },
     "execution_count": 172,
     "metadata": {},
     "output_type": "execute_result"
    }
   ],
   "source": [
    "member_data['성별'].isnull().sum()\n",
    "# 제거"
   ]
  },
  {
   "cell_type": "code",
   "execution_count": 17,
   "id": "55a7c797-e69a-4bf4-87bf-5d1dffe11ca7",
   "metadata": {},
   "outputs": [
    {
     "data": {
      "text/plain": [
       "<Axes: >"
      ]
     },
     "execution_count": 17,
     "metadata": {},
     "output_type": "execute_result"
    },
    {
     "data": {
      "image/png": "[encoded data removed]",
      "text/plain": [
       "<Figure size 640x480 with 1 Axes>"
      ]
     },
     "metadata": {},
     "output_type": "display_data"
    }
   ],
   "source": [
    "member_data.boxplot()"
   ]
  },
  {
   "cell_type": "code",
   "execution_count": 18,
   "id": "05bfac61-6176-4cbf-8188-26f9d2c650d1",
   "metadata": {},
   "outputs": [
    {
     "data": {
      "text/plain": [
       "<Axes: >"
      ]
     },
     "execution_count": 18,
     "metadata": {},
     "output_type": "execute_result"
    },
    {
     "data": {
      "image/png": "[encoded data removed]",
      "text/plain": [
       "<Figure size 640x480 with 1 Axes>"
      ]
     },
     "metadata": {},
     "output_type": "display_data"
    }
   ],
   "source": [
    "member_data.boxplot(['나이'])"
   ]
  },
  {
   "cell_type": "code",
   "execution_count": 19,
   "id": "b491d49d-0196-42f8-b4c7-04425049a239",
   "metadata": {
    "collapsed": true,
    "jupyter": {
     "outputs_hidden": true
    },
    "scrolled": true
   },
   "outputs": [
    {
     "data": {
      "text/plain": [
       "[100,\n",
       " 99,\n",
       " 98,\n",
       " 87,\n",
       " 84,\n",
       " 83,\n",
       " 82,\n",
       " 81,\n",
       " 80,\n",
       " 79,\n",
       " 78,\n",
       " 77,\n",
       " 76,\n",
       " 75,\n",
       " 74,\n",
       " 73,\n",
       " 72,\n",
       " 71,\n",
       " 70,\n",
       " 69,\n",
       " 68,\n",
       " 67,\n",
       " 66,\n",
       " 65,\n",
       " 64,\n",
       " 63,\n",
       " 62,\n",
       " 61,\n",
       " 60,\n",
       " 59,\n",
       " 58,\n",
       " 57,\n",
       " 56,\n",
       " 55,\n",
       " 54,\n",
       " 53,\n",
       " 52,\n",
       " 51,\n",
       " 50,\n",
       " 49,\n",
       " 48,\n",
       " 47,\n",
       " 46,\n",
       " 45,\n",
       " 44,\n",
       " 43,\n",
       " 42,\n",
       " 41,\n",
       " 40,\n",
       " 39,\n",
       " 38,\n",
       " 37,\n",
       " 36,\n",
       " 35,\n",
       " 34,\n",
       " 33,\n",
       " 32,\n",
       " 31,\n",
       " 30,\n",
       " 29,\n",
       " 28,\n",
       " 27,\n",
       " 26,\n",
       " 25,\n",
       " 24,\n",
       " 23,\n",
       " 22,\n",
       " 21,\n",
       " 20,\n",
       " 19,\n",
       " 18]"
      ]
     },
     "execution_count": 19,
     "metadata": {},
     "output_type": "execute_result"
    }
   ],
   "source": [
    "sorted(member_data['나이'].unique(), reverse=True)\n",
    "# IQR 이상치 처리"
   ]
  },
  {
   "cell_type": "code",
   "execution_count": 285,
   "id": "3ad213eb-2b99-45d5-851b-09e6df45c815",
   "metadata": {},
   "outputs": [
    {
     "name": "stdout",
     "output_type": "stream",
     "text": [
      "1사분위수(Q1): 33.0\n",
      "3사분위수(Q3): 48.0\n",
      "IQR: 15.0\n",
      "하한: 10.5\n",
      "상한: 70.5\n",
      "이상치: [83, 73, 72, 77, 72, 81, 73, 71, 72, 71, 72, 72, 73, 76, 76, 83, 71, 79, 81, 81, 71, 74, 74, 77, 71, 77, 73, 74, 79, 71, 74, 73, 84, 72, 71, 71, 71, 72, 73, 72, 72, 74, 77, 71, 72, 71, 75, 80, 74, 73, 72, 79, 77, 78, 71, 74, 71, 72, 72, 74, 74, 71, 72, 72, 71, 72, 72, 75, 77, 71, 77, 72, 74, 72, 73, 72, 77, 71, 74, 78, 75, 71, 71, 71, 72, 75, 77, 72, 72, 72, 72, 75, 71, 78, 71, 71, 72, 72, 71, 71, 74, 72, 76, 73, 77, 75, 71, 77, 78, 77, 74, 72, 71, 73, 73, 71, 76, 71, 99, 71, 72, 76, 72, 71, 74, 77, 87, 74, 73, 76, 83, 71, 72, 75, 74, 75, 81, 80, 71, 71, 77, 98, 71, 73, 71, 74, 73, 72, 75, 71, 73, 71, 72, 82, 78, 74, 72, 77, 74, 73, 74, 74, 72, 73, 73, 71, 71, 71, 78, 73, 75, 73, 71, 71, 79, 72, 83, 71, 71, 74, 71, 79, 74, 73, 74, 71, 84, 75, 71, 72, 72, 71, 73, 73, 71, 74, 77, 74, 74, 73, 71, 74, 100]\n",
      "이상치의 개수: 203\n"
     ]
    }
   ],
   "source": [
    "# pandas Series로 변환\n",
    "data_series = pd.Series(member_data['나이'])\n",
    "\n",
    "# 1사분위수(Q1)와 3사분위수(Q3) 계산\n",
    "Q1 = data_series.quantile(0.25)\n",
    "Q3 = data_series.quantile(0.75)\n",
    "\n",
    "# IQR 계산\n",
    "IQR = Q3 - Q1\n",
    "\n",
    "# 하한과 상한 계산\n",
    "lower_bound = Q1 - 1.5 * IQR\n",
    "upper_bound = Q3 + 1.5 * IQR\n",
    "\n",
    "# 이상치 식별\n",
    "outliers = data_series[(data_series < lower_bound) | (data_series > upper_bound)]\n",
    "\n",
    "# 결과 출력\n",
    "print(f\"1사분위수(Q1): {Q1}\")\n",
    "print(f\"3사분위수(Q3): {Q3}\")\n",
    "print(f\"IQR: {IQR}\")\n",
    "print(f\"하한: {lower_bound}\")\n",
    "print(f\"상한: {upper_bound}\")\n",
    "print(f\"이상치: {outliers.tolist()}\")\n",
    "\n",
    "# 이상치의 개수 조회 및 출력\n",
    "outliers_count = outliers.count()\n",
    "print(f\"이상치의 개수: {outliers_count}\")"
   ]
  },
  {
   "cell_type": "code",
   "execution_count": 174,
   "id": "a3f5e619-93fd-4957-a84d-4cd026d4bf52",
   "metadata": {},
   "outputs": [
    {
     "data": {
      "text/plain": [
       "0"
      ]
     },
     "execution_count": 174,
     "metadata": {},
     "output_type": "execute_result"
    }
   ],
   "source": [
    "member_data['회원번호'].isnull().sum()"
   ]
  },
  {
   "cell_type": "code",
   "execution_count": 175,
   "id": "6ca17276-4a6a-4582-9d13-c88e6a83153b",
   "metadata": {},
   "outputs": [
    {
     "data": {
      "text/plain": [
       "3"
      ]
     },
     "execution_count": 175,
     "metadata": {},
     "output_type": "execute_result"
    }
   ],
   "source": [
    "member_data['주소지'].isnull().sum()"
   ]
  },
  {
   "cell_type": "code",
   "execution_count": 176,
   "id": "64b030c9-b0c2-4e8d-aeea-9b506f50233d",
   "metadata": {},
   "outputs": [],
   "source": [
    "member_data['주소지'].dropna(inplace = True)"
   ]
  },
  {
   "cell_type": "markdown",
   "id": "a423caa1-3c2b-4eff-a1a2-5d71cc1713a3",
   "metadata": {
    "jp-MarkdownHeadingCollapsed": true
   },
   "source": [
    "# member_data 구독여부 비율 확인"
   ]
  },
  {
   "cell_type": "code",
   "execution_count": 177,
   "id": "63268b10-7ada-4a94-868c-d31fdb1ba0d9",
   "metadata": {},
   "outputs": [
    {
     "data": {
      "text/plain": [
       "array([False, nan, True], dtype=object)"
      ]
     },
     "execution_count": 177,
     "metadata": {},
     "output_type": "execute_result"
    }
   ],
   "source": [
    "member_data['구독여부'].unique()"
   ]
  },
  {
   "cell_type": "code",
   "execution_count": 178,
   "id": "b4b7d8ee-621b-45ab-bfc5-6fbe5e19cef4",
   "metadata": {
    "scrolled": true
   },
   "outputs": [
    {
     "name": "stdout",
     "output_type": "stream",
     "text": [
      "구독여부\n",
      "False    67.312600\n",
      "NaN      18.708134\n",
      "True     13.979266\n",
      "Name: count, dtype: float64\n"
     ]
    }
   ],
   "source": [
    "# 구독여부의 비율 계산\n",
    "subscription_counts = member_data['구독여부'].value_counts(dropna=False)\n",
    "total_count = len(member_data['구독여부'])\n",
    "\n",
    "# 비율 계산\n",
    "subscription_ratios = subscription_counts / total_count * 100\n",
    "\n",
    "# 비율 출력\n",
    "print(subscription_ratios)"
   ]
  },
  {
   "cell_type": "code",
   "execution_count": 352,
   "id": "aa9cc84b-0f72-4167-8557-ee4f2b3d04de",
   "metadata": {},
   "outputs": [
    {
     "data": {
      "text/plain": [
       "array(['정상회원', '탈퇴', '탈퇴처리중', '탈퇴신청'], dtype=object)"
      ]
     },
     "execution_count": 352,
     "metadata": {},
     "output_type": "execute_result"
    }
   ],
   "source": [
    "member_data['회원상태'].unique()"
   ]
  },
  {
   "cell_type": "code",
   "execution_count": 344,
   "id": "1856fe3d-c7b5-4899-8403-03c140fd2860",
   "metadata": {},
   "outputs": [],
   "source": [
    "# '회원상태' 열에 NaN이 포함된 행 제거\n",
    "member_data.dropna(subset=['회원상태'], inplace=True)"
   ]
  },
  {
   "cell_type": "code",
   "execution_count": 353,
   "id": "1c53acba-ddd6-499b-bef6-dc647d8ae598",
   "metadata": {},
   "outputs": [
    {
     "data": {
      "text/plain": [
       "array(['여', '남'], dtype=object)"
      ]
     },
     "execution_count": 353,
     "metadata": {},
     "output_type": "execute_result"
    }
   ],
   "source": [
    "member_data['성별'].unique()"
   ]
  },
  {
   "cell_type": "code",
   "execution_count": 343,
   "id": "a40592bc-bd8e-4c45-a908-e840cc5867ac",
   "metadata": {},
   "outputs": [],
   "source": [
    "# '성별' 열에 NaN이 포함된 행 제거\n",
    "member_data.dropna(subset=['성별'], inplace=True)"
   ]
  },
  {
   "cell_type": "code",
   "execution_count": 347,
   "id": "5dbf4889-d2ec-401c-a571-baac922a163c",
   "metadata": {},
   "outputs": [
    {
     "data": {
      "text/plain": [
       "0"
      ]
     },
     "execution_count": 347,
     "metadata": {},
     "output_type": "execute_result"
    }
   ],
   "source": [
    "member_data['주소지'].isnull().sum()"
   ]
  },
  {
   "cell_type": "code",
   "execution_count": 342,
   "id": "878ac7df-26e1-40f8-a29b-bd0385607acc",
   "metadata": {},
   "outputs": [],
   "source": [
    "# '세부주소지' 열에 NaN이 포함된 행 제거\n",
    "member_data.dropna(subset=['세부주소지'], inplace=True)"
   ]
  },
  {
   "cell_type": "code",
   "execution_count": null,
   "id": "a109fbb8-78e1-48b4-b15c-935582450325",
   "metadata": {},
   "outputs": [],
   "source": []
  },
  {
   "cell_type": "code",
   "execution_count": 351,
   "id": "1fd5edf7-a0a6-41a1-b8b9-9dbfa7b94a3d",
   "metadata": {},
   "outputs": [
    {
     "name": "stdout",
     "output_type": "stream",
     "text": [
      "CSV 파일이 C:/Users/campus4D045/Desktop/data/member_data1.csv 경로에 저장되었습니다.\n"
     ]
    }
   ],
   "source": [
    "# CSV 파일로 추출\n",
    "file_path = 'C:/Users/campus4D045/Desktop/data/member_data1.csv'\n",
    "member_data.to_csv(file_path, index=False, encoding='utf-8')\n",
    "\n",
    "# 확인 메시지 출력\n",
    "print(f\"CSV 파일이 {file_path} 경로에 저장되었습니다.\")"
   ]
  },
  {
   "cell_type": "code",
   "execution_count": 350,
   "id": "80a70641-296b-43a5-b0b4-8031dcce7c66",
   "metadata": {},
   "outputs": [
    {
     "data": {
      "text/plain": [
       "array([68, 83, 39, 73, 52, 45, 50, 53, 43, 58, 41, 48, 42, 46, 44, 62, 65,\n",
       "       47, 38, 64, 49, 40, 66, 57, 54, 67, 63, 51, 55, 56, 70, 61, 59, 33,\n",
       "       69, 72, 36, 77, 60, 81, 71, 37, 76, 79, 31, 34, 74, 35, 30, 32, 84,\n",
       "       29, 28, 75, 80, 78, 23, 25, 26, 24, 27, 21, 87, 22, 19, 82, 20, 18],\n",
       "      dtype=int64)"
      ]
     },
     "execution_count": 350,
     "metadata": {},
     "output_type": "execute_result"
    }
   ],
   "source": [
    "member_data['나이'].unique()"
   ]
  },
  {
   "cell_type": "code",
   "execution_count": 349,
   "id": "1e326a06-a506-4bed-8bd4-5c67b14bfe3c",
   "metadata": {},
   "outputs": [],
   "source": [
    "# 1. NaN 값을 포함한 행을 먼저 제거합니다 (선택 사항)\n",
    "member_data.dropna(subset=['나이'], inplace=True)\n",
    "\n",
    "# 2. '나이'가 71 이상인 행을 제거합니다\n",
    "member_data = member_data[member_data['나이'] < 90]"
   ]
  },
  {
   "cell_type": "code",
   "execution_count": 180,
   "id": "cccb3e96-18ff-4cc1-990a-561c6209fcf5",
   "metadata": {},
   "outputs": [
    {
     "name": "stdout",
     "output_type": "stream",
     "text": [
      "회원상태\n",
      "정상회원     98.724083\n",
      "탈퇴        1.244019\n",
      "탈퇴처리중     0.015949\n",
      "NaN       0.007974\n",
      "탈퇴신청      0.007974\n",
      "Name: count, dtype: float64\n"
     ]
    }
   ],
   "source": [
    "# 회원상태의 비율 계산\n",
    "status_counts = member_data['회원상태'].value_counts(dropna=False)\n",
    "total1_count = len(member_data['회원상태'])\n",
    "\n",
    "# 비율 계산\n",
    "status_ratios = status_counts / total1_count * 100\n",
    "\n",
    "# 비율 출력\n",
    "print(status_ratios)"
   ]
  },
  {
   "cell_type": "markdown",
   "id": "296f98fb-0708-4397-9ac9-2f6b15a91964",
   "metadata": {
    "jp-MarkdownHeadingCollapsed": true
   },
   "source": [
    "# Product_data 이상치 확인"
   ]
  },
  {
   "cell_type": "code",
   "execution_count": 305,
   "id": "e7b88a14-7be9-4fd1-9e31-2c11387e8134",
   "metadata": {},
   "outputs": [
    {
     "data": {
      "text/html": [
       "<div>\n",
       "<style scoped>\n",
       "    .dataframe tbody tr th:only-of-type {\n",
       "        vertical-align: middle;\n",
       "    }\n",
       "\n",
       "    .dataframe tbody tr th {\n",
       "        vertical-align: top;\n",
       "    }\n",
       "\n",
       "    .dataframe thead th {\n",
       "        text-align: right;\n",
       "    }\n",
       "</style>\n",
       "<table border=\"1\" class=\"dataframe\">\n",
       "  <thead>\n",
       "    <tr style=\"text-align: right;\">\n",
       "      <th></th>\n",
       "      <th>제품번호</th>\n",
       "      <th>물품명</th>\n",
       "      <th>물품대분류</th>\n",
       "      <th>물품중분류</th>\n",
       "      <th>상품중량</th>\n",
       "    </tr>\n",
       "  </thead>\n",
       "  <tbody>\n",
       "    <tr>\n",
       "      <th>0</th>\n",
       "      <td>100021V2_0</td>\n",
       "      <td>2단무늬컵</td>\n",
       "      <td>식기/편백</td>\n",
       "      <td>자기</td>\n",
       "      <td>1p</td>\n",
       "    </tr>\n",
       "    <tr>\n",
       "      <th>1</th>\n",
       "      <td>100022V2_1</td>\n",
       "      <td>7곡딸기롤과자</td>\n",
       "      <td>과자</td>\n",
       "      <td>스낵</td>\n",
       "      <td>100g/10개입</td>\n",
       "    </tr>\n",
       "    <tr>\n",
       "      <th>2</th>\n",
       "      <td>100023V2_2</td>\n",
       "      <td>7곡참식</td>\n",
       "      <td>식사대용</td>\n",
       "      <td>선식/생식</td>\n",
       "      <td>700g</td>\n",
       "    </tr>\n",
       "    <tr>\n",
       "      <th>3</th>\n",
       "      <td>100024V2_3</td>\n",
       "      <td>가리비</td>\n",
       "      <td>생물수산</td>\n",
       "      <td>패류/갑각류</td>\n",
       "      <td>1.5kg</td>\n",
       "    </tr>\n",
       "    <tr>\n",
       "      <th>4</th>\n",
       "      <td>100025V2_3</td>\n",
       "      <td>가리비</td>\n",
       "      <td>생물수산</td>\n",
       "      <td>패류/갑각류</td>\n",
       "      <td>1kg</td>\n",
       "    </tr>\n",
       "  </tbody>\n",
       "</table>\n",
       "</div>"
      ],
      "text/plain": [
       "         제품번호      물품명  물품대분류   물품중분류       상품중량\n",
       "0  100021V2_0    2단무늬컵  식기/편백      자기         1p\n",
       "1  100022V2_1  7곡딸기롤과자     과자      스낵  100g/10개입\n",
       "2  100023V2_2     7곡참식   식사대용   선식/생식       700g\n",
       "3  100024V2_3      가리비   생물수산  패류/갑각류      1.5kg\n",
       "4  100025V2_3      가리비   생물수산  패류/갑각류        1kg"
      ]
     },
     "execution_count": 305,
     "metadata": {},
     "output_type": "execute_result"
    }
   ],
   "source": [
    "product_data.head()"
   ]
  },
  {
   "cell_type": "code",
   "execution_count": 292,
   "id": "c1ff9d23-7eba-4c28-9e6d-ed4e1178e7cf",
   "metadata": {},
   "outputs": [
    {
     "data": {
      "text/plain": [
       "0"
      ]
     },
     "execution_count": 292,
     "metadata": {},
     "output_type": "execute_result"
    }
   ],
   "source": [
    "product_data['제품번호'].isnull().sum()"
   ]
  },
  {
   "cell_type": "code",
   "execution_count": 183,
   "id": "61355d9b-894d-4773-a97e-bfe6902963f7",
   "metadata": {},
   "outputs": [
    {
     "data": {
      "text/plain": [
       "False"
      ]
     },
     "execution_count": 183,
     "metadata": {},
     "output_type": "execute_result"
    }
   ],
   "source": [
    "product_data['물품명'].isnull().any()"
   ]
  },
  {
   "cell_type": "code",
   "execution_count": 184,
   "id": "381df3a3-3ba1-40c3-9cbc-bb3aa9f78e83",
   "metadata": {},
   "outputs": [
    {
     "data": {
      "text/plain": [
       "False"
      ]
     },
     "execution_count": 184,
     "metadata": {},
     "output_type": "execute_result"
    }
   ],
   "source": [
    "product_data['물품대분류'].isnull().any()"
   ]
  },
  {
   "cell_type": "code",
   "execution_count": 185,
   "id": "27f26765-42b6-4d55-960a-b44813b9dbbb",
   "metadata": {},
   "outputs": [
    {
     "data": {
      "text/plain": [
       "False"
      ]
     },
     "execution_count": 185,
     "metadata": {},
     "output_type": "execute_result"
    }
   ],
   "source": [
    "product_data['물품중분류'].isnull().any()"
   ]
  },
  {
   "cell_type": "code",
   "execution_count": 293,
   "id": "72e35113-e461-446f-9540-1e9a9aa23ff1",
   "metadata": {},
   "outputs": [
    {
     "data": {
      "text/plain": [
       "219"
      ]
     },
     "execution_count": 293,
     "metadata": {},
     "output_type": "execute_result"
    }
   ],
   "source": [
    "product_data['상품중량'].isnull().sum()"
   ]
  },
  {
   "cell_type": "code",
   "execution_count": 187,
   "id": "d8ca7150-89cd-4a62-97d3-28e83e2f38cc",
   "metadata": {},
   "outputs": [
    {
     "name": "stdout",
     "output_type": "stream",
     "text": [
      "                  제품번호           물품명   물품대분류   물품중분류 상품중량\n",
      "5           100026V2_4        가마솥3인용   식기/편백      옹기  NaN\n",
      "6           100027V2_5        가마솥5인용   식기/편백      옹기  NaN\n",
      "8           100029V2_7     가브리살-성남용인  중량(정육)  돼지(중량)  NaN\n",
      "31        1000232V2_23     갈매기살-성남용인  중량(정육)  돼지(중량)  NaN\n",
      "55        1000256V2_39  감식초&개복숭아원액모음      음료    음료기타  NaN\n",
      "...                ...           ...     ...     ...  ...\n",
      "2477  100022478V2_1861    혼합표고선물모음1호      버섯    표고버섯  NaN\n",
      "2478  100022479V2_1862    혼합표고선물모음3호      버섯    표고버섯  NaN\n",
      "2482  100022483V2_1866      홍두깨-성남용인  중량(정육)  한우(중량)  NaN\n",
      "2513  100022514V2_1892        황태선물모음     건어물     황태류  NaN\n",
      "2536  100022537V2_1910   흑방울토마토_500g    과일채소   방울토마토  NaN\n",
      "\n",
      "[219 rows x 5 columns]\n"
     ]
    }
   ],
   "source": [
    "# '상품중량'이 null인 행 필터링\n",
    "null_weight_products = product_data[product_data['상품중량'].isnull()]\n",
    "\n",
    "# 고유한 값 찾기\n",
    "unique_null_weight_products = null_weight_products.drop_duplicates()\n",
    "\n",
    "print(unique_null_weight_products)"
   ]
  },
  {
   "cell_type": "markdown",
   "id": "318e128b-aca7-43b7-b533-8b194cefecb0",
   "metadata": {
    "jp-MarkdownHeadingCollapsed": true
   },
   "source": [
    "# product_data 범주"
   ]
  },
  {
   "cell_type": "code",
   "execution_count": 306,
   "id": "2864bfc4-5e2e-45bd-a6ea-f7818aa6b958",
   "metadata": {
    "scrolled": true
   },
   "outputs": [
    {
     "data": {
      "text/plain": [
       "array(['식기/편백', '과자', '식사대용', '생물수산', '중량(정육)', '음료', '열매채소', '냉동수산',\n",
       "       '말린나물/건재', '수산가공', '소스/기타양념', '육가공', '버섯', '과일', '기름/식초', '차',\n",
       "       '밀가공', '빵', '가루', '해조', '잎/줄기채소', '김치', '생활용품', '세제/세안', '건강일반',\n",
       "       '양념채소', '건어물', '즉석조리', '장', '콩/화본/깨', '견과', '어묵/묵', '밑반찬', '닭/오리',\n",
       "       '소', '잼/병조림/기타', '알', '돼지', '소금', '뿌리채소', '떡', '홍삼/녹용', '쌈채소류',\n",
       "       '꿀', '과실주', '과일채소', '유색미/발아미', '두부/유부', '절임/장아찌', '유제품', '전통주',\n",
       "       '멥쌀', '보리/혼합곡', '화장품', '콩나물', '손질한채소', '섬유', '찹쌀', '김장채소'],\n",
       "      dtype=object)"
      ]
     },
     "execution_count": 306,
     "metadata": {},
     "output_type": "execute_result"
    }
   ],
   "source": [
    "product_data['물품대분류'].unique()"
   ]
  },
  {
   "cell_type": "code",
   "execution_count": 307,
   "id": "9ea00161-525a-41c4-b094-0ad3d2dcadad",
   "metadata": {},
   "outputs": [
    {
     "data": {
      "text/plain": [
       "array(['자기', '스낵', '선식/생식', '패류/갑각류', '옹기', '돼지(중량)', '발효음료', '과즙',\n",
       "       '가시오이', '냉동생선', '가지', '가지말림', '게장/게살', '소스', '돈가스/분쇄가공', '수산가공반찬',\n",
       "       '만가닥버섯', '양송이버섯', '귤(비가림)', '귤만감', '빙과', '곶감', '식초', '음료기타', '잎꽃차',\n",
       "       '라면', '건강곡물빵', '과채가루', '생숙면', '기타해조류', '갓', '기타채소', '갓끈동부', '풋콩',\n",
       "       '환경용품', '개복숭아', '살균/세정/탈취', '분말/환', '건고추', '곡류차', '건대추', '말린도라지',\n",
       "       '목이버섯', '기타건어류', '국.찌개', '건강차', '장류/기타', '두유', '깨', '콩', '밤',\n",
       "       '엿/양갱/기타', '묵', '피자/핫도그', '고구마순', '고구마순말림(70g)', '찐빵,호떡,전통',\n",
       "       '케이크,롤,선물', '만두', '기타', '부각/튀각', '햄/소시지/훈제', '볶음', '기타양념', '고춧가루',\n",
       "       '고춧잎', '프리믹스', '씨리얼', '곤드레나물/손질', '식사대용/기타', '곤드레잎', '기타생활용품',\n",
       "       '곰취', '무항생제닭', '기타냉동수산', '유기한우', '공심채', '잼', '푸딩', '김', '김가공',\n",
       "       '유정란', '보리살림돼지', '대용량물품(냉동수산)', '가공소금', '멸치류', '황태류', '천일염',\n",
       "       '스테인리스', '화본', '귤(조생)', '숯/원예', '근대', '금이버섯', '한과/유과', '간편요리',\n",
       "       '배추', '젓갈/액젓', '무', '더덕/손질', '도라지/손질', '깐마늘', '은행', '쪽파', '호두',\n",
       "       '깻단', '깻잎', '새송이버섯', '즉석떡', '쿠키', '한우(중량)', '녹용', '상추', '기타(냉동 등)',\n",
       "       '꽈리고추', '냉동건조과일', '꿀', '포도주', '냉동패류', '송편', '냉동딸기', '가래떡', '냉동메론',\n",
       "       '블루베리', '산딸기', '냉이', '노각오이', '노루궁뎅이버섯', '곡식가루', '유색미', '느타리버섯',\n",
       "       '편백', '늙은호박', '대파/손질', '꿀부산물', '다래순말림(100g)', '국/탕(수산)', '미역/다시마',\n",
       "       '수산분말', '주방소품', '위생용품', '단감', '두부', '절임', '앙금크림빵', '단호박', '단호박/손질',\n",
       "       '요구르트', '달래', '장아찌', '당근', '단과자빵', '면/기타', '당조고추', '조림', '대파',\n",
       "       '더덕', '추출/농축액', '건강/기타', '옻칠', '육포/기타', '돌나물', '간편조리면', '돼지감자',\n",
       "       '뿌리차', '식육추출가공', '무항생제돼지', '보리살림(냉장)', '두릅', '어묵', '헤어', '애호박',\n",
       "       '기름', '무항생제(냉장)', '유기한우(냉장)', '딸기', '땅두릅', '탁주', '병조림/기타', '땅콩호박',\n",
       "       '라디치오', '레몬', '로메인', '루꼴라', '치즈/기타', '상황버섯', '마', '마늘/재래종',\n",
       "       '마늘(난지형)', '마늘(장아찌용)', '마늘쫑', '말린고사리(70g)', '말린곤드레나물(100g)',\n",
       "       '말린삼잎국화나물', '말린아주까리잎(100g)', '표고버섯', '간장', '우유/산양유', '생물해조류',\n",
       "       '가루/기타', '머위', '머위잎', '메론', '국수', '메주', '양념가루', '수산가공간식', '명이나물',\n",
       "       '절임차', '한우(냉장)', '세안비누', '사과', '페스츄리류', '무말림(200g)', '무침', '무쇠',\n",
       "       '무순', '무시래기(100g)', '무화과', '세탁비누', '치약/칫솔', '바디', '주방용비누', '미나리',\n",
       "       '미니단호박', '파프리카', '증류주', '리큐르/기타', '바질', '반디나물', '오징어류', '발아미',\n",
       "       '방울무', '양배추', '방울토마토', '방풍나물', '배', '멥쌀', '무항생제오리', '토종닭', '논지엠오닭',\n",
       "       '베타쌈배추', '보리', '보리순', '복숭아', '땅콩', '봄동', '부추', '브로컬리', '죽', '비름나물',\n",
       "       '비타민고추', '비타민채소', '뽕잎나물(100g)', '생대추', '된장', '산나물모음', '산양삼',\n",
       "       '삶은고사리/손질', '삶은무시래기', '죽순', '찰옥수수', '건재', '삼잎국화나물', '삼채잎',\n",
       "       '식빵, 식사대용', '샐러리', '생강', '도라지', '어류/연체류', '생오미자', '생채', '취나물',\n",
       "       '생토란줄기', '상자', '토종', '고추장', '휴지', '세발나물', '열무', '솔부추', '수박',\n",
       "       '기초화장품', '세안제/팩', '유아/썬크림', '바디/핸드', '숙주나물', '스낵오이', '시금치', '신선초',\n",
       "       '쌈배추', '쌈양상추', '쌈채소모음', '쌈케일', '쑥', '쑥갓', '씀바귀', '아로니아', '아스파라거스',\n",
       "       '아욱', '아이스크림', '알로에', '알비트', '알타리무', '알토란', '애호박말림', '야콘', '양념육',\n",
       "       '양상추', '양파', '홍삼', '어린잎채소', '얼갈이', '연근말림', '연근채/세척', '소품', '영유아',\n",
       "       '성인', '침구', '아동', '오가피순', '혼합곡', '오이', '오이맛풋고추', '완숙토마토', '약주',\n",
       "       '우엉', '우엉/손질', '울금', '월동무', '전통유기', '유부', '논지엠오유정란', '유채나물', '인삼',\n",
       "       '잎마늘', '자두', '자색양파', '남성화장품', '색조화장품', '잣', '재래닭유정란', '재래종중파',\n",
       "       '적양배추', '조선오이', '중파', '즙용브로컬리', '케일', '참다래', '참외', '찹쌀', '조리빵',\n",
       "       '채심', '청갓', '청경채', '청매실', '청양고추', '포도(혼합포도)', '초석잠', '참취나물말림',\n",
       "       '취청오이', '치커리', '콜라비', '콜리플라워', '콩가공/기타', '콩나물', '파이,과자,쿠키류',\n",
       "       '토란줄기말림(70g)', '보리살림닭', '토종풋고추', '연근', '팽이버섯', '풋고추', '피망', '한우',\n",
       "       '떡케이크/선물', '호박잎', '영지버섯', '홍고추', '홍시용감(대봉)', '홍시용감(둥시)', '홍화나물',\n",
       "       '황기', '황매실'], dtype=object)"
      ]
     },
     "execution_count": 307,
     "metadata": {},
     "output_type": "execute_result"
    }
   ],
   "source": [
    "product_data['물품중분류'].unique()"
   ]
  },
  {
   "cell_type": "code",
   "execution_count": 308,
   "id": "6d5576dc-25ef-456c-bfdf-cfdb96b93f3e",
   "metadata": {},
   "outputs": [],
   "source": [
    "# 식품 목록\n",
    "food_categories = [\n",
    "    '과자', '음료', '빵', '밀가공', '건강일반', '콩/화본/깨', '가루', '식사대용', '차', '잼/병조림/기타', \n",
    "    '유색미/발아미', '보리/혼합곡', '꿀', '전통주', '과실주', '찹쌀', '소스/기타양념', '말린나물/건재', '장', \n",
    "    '견과', '즉석조리', '기름/식초', '홍삼/녹용', '맵쌀', '냉동수산', '소', '생물수산', '돼지', '중량(정육)', \n",
    "    '유제품', '닭/오리', '해조', '알', '두부/유부', '밑반찬', '김치', '콩나물', '손질한채소', '김장채소', \n",
    "    '과일', '잎/줄기채소', '열매채소', '뿌리채소', '과일채소', '양념채소', '절임/장아찌', '떡', '버섯', \n",
    "    '쌈채소류', '육가공', '수산가공', '건어물', '어묵/묵', '소금'\n",
    "]\n",
    "\n",
    "# 비식품 목록\n",
    "non_food_categories = [\n",
    "    '식기/편백', '생활용품', '화장품', '섬유', '세제/세안'\n",
    "]\n",
    "# 식품/비식품 구분 함수 정의\n",
    "def classify_category(category):\n",
    "    if category in food_categories:\n",
    "        return '식품'\n",
    "    elif category in non_food_categories:\n",
    "        return '비식품'\n",
    "    else:\n",
    "        return '기타'\n",
    "\n",
    "# 식품/비식품 컬럼 추가\n",
    "product_data['식품/비식품'] = product_data['물품대분류'].apply(classify_category)"
   ]
  },
  {
   "cell_type": "code",
   "execution_count": 309,
   "id": "3bf9b687-d797-4d63-b63e-b5b031b0ca19",
   "metadata": {},
   "outputs": [],
   "source": [
    "# 유기농 목록\n",
    "organic_categories = [\n",
    "    '과자', '음료', '빵', '밀가공', '건강일반', '콩/화본/깨', '가루', '식사대용', '차', '잼/병조림/기타', \n",
    "    '유색미/발아미', '보리/혼합곡', '꿀', '전통주', '과실주', '찹쌀', '소스/기타양념', '말린나물/건재', '장', \n",
    "    '견과', '즉석조리', '기름/식초', '홍삼/녹용', '맵쌀'\n",
    "]\n",
    "\n",
    "# 신선 목록\n",
    "fresh_categories = [\n",
    "    '냉동수산', '소', '생물수산', '돼지', '중량(정육)', \n",
    "    '유제품', '닭/오리', '해조', '알', '두부/유부'\n",
    "]\n",
    "\n",
    "# 신선/유기농 목록\n",
    "orgfresh_categories = [\n",
    "    '밑반찬', '김치', '콩나물', '손질한채소', '김장채소', \n",
    "    '과일', '잎/줄기채소', '열매채소', '뿌리채소', '과일채소', '양념채소', '절임/장아찌', '떡', '버섯', \n",
    "    '쌈채소류'\n",
    "]\n",
    "\n",
    "# 기타 목록\n",
    "etc_categories = [\n",
    "    '육가공', '수산가공', '건어물', '어묵/묵', '소금'\n",
    "]\n",
    "\n",
    "# 비식품 목록\n",
    "non_food_categories = [\n",
    "    '식기/편백', '생활용품', '화장품', '섬유', '세제/세안'\n",
    "]\n",
    "\n",
    "# 식품/비식품 구분 함수 정의\n",
    "def classify_category(category):\n",
    "    if category in organic_categories:\n",
    "        return '유기농'\n",
    "    elif category in fresh_categories:\n",
    "        return '신선'\n",
    "    elif category in orgfresh_categories:\n",
    "        return '신선/유기농'\n",
    "    elif category in etc_categories:\n",
    "        return '기타'\n",
    "    else:\n",
    "        return '비식품'\n",
    "\n",
    "# 식품/비식품 컬럼 추가\n",
    "product_data['유기신선'] = product_data['물품대분류'].apply(classify_category)"
   ]
  },
  {
   "cell_type": "code",
   "execution_count": 310,
   "id": "731fc4ff-ea88-47e7-94e2-883a8b7337cd",
   "metadata": {},
   "outputs": [
    {
     "data": {
      "text/html": [
       "<div>\n",
       "<style scoped>\n",
       "    .dataframe tbody tr th:only-of-type {\n",
       "        vertical-align: middle;\n",
       "    }\n",
       "\n",
       "    .dataframe tbody tr th {\n",
       "        vertical-align: top;\n",
       "    }\n",
       "\n",
       "    .dataframe thead th {\n",
       "        text-align: right;\n",
       "    }\n",
       "</style>\n",
       "<table border=\"1\" class=\"dataframe\">\n",
       "  <thead>\n",
       "    <tr style=\"text-align: right;\">\n",
       "      <th></th>\n",
       "      <th>제품번호</th>\n",
       "      <th>물품명</th>\n",
       "      <th>물품대분류</th>\n",
       "      <th>물품중분류</th>\n",
       "      <th>상품중량</th>\n",
       "      <th>식품/비식품</th>\n",
       "      <th>유기신선</th>\n",
       "    </tr>\n",
       "  </thead>\n",
       "  <tbody>\n",
       "    <tr>\n",
       "      <th>0</th>\n",
       "      <td>100021V2_0</td>\n",
       "      <td>2단무늬컵</td>\n",
       "      <td>식기/편백</td>\n",
       "      <td>자기</td>\n",
       "      <td>1p</td>\n",
       "      <td>비식품</td>\n",
       "      <td>비식품</td>\n",
       "    </tr>\n",
       "    <tr>\n",
       "      <th>1</th>\n",
       "      <td>100022V2_1</td>\n",
       "      <td>7곡딸기롤과자</td>\n",
       "      <td>과자</td>\n",
       "      <td>스낵</td>\n",
       "      <td>100g/10개입</td>\n",
       "      <td>식품</td>\n",
       "      <td>유기농</td>\n",
       "    </tr>\n",
       "    <tr>\n",
       "      <th>2</th>\n",
       "      <td>100023V2_2</td>\n",
       "      <td>7곡참식</td>\n",
       "      <td>식사대용</td>\n",
       "      <td>선식/생식</td>\n",
       "      <td>700g</td>\n",
       "      <td>식품</td>\n",
       "      <td>유기농</td>\n",
       "    </tr>\n",
       "    <tr>\n",
       "      <th>3</th>\n",
       "      <td>100024V2_3</td>\n",
       "      <td>가리비</td>\n",
       "      <td>생물수산</td>\n",
       "      <td>패류/갑각류</td>\n",
       "      <td>1.5kg</td>\n",
       "      <td>식품</td>\n",
       "      <td>신선</td>\n",
       "    </tr>\n",
       "    <tr>\n",
       "      <th>4</th>\n",
       "      <td>100025V2_3</td>\n",
       "      <td>가리비</td>\n",
       "      <td>생물수산</td>\n",
       "      <td>패류/갑각류</td>\n",
       "      <td>1kg</td>\n",
       "      <td>식품</td>\n",
       "      <td>신선</td>\n",
       "    </tr>\n",
       "  </tbody>\n",
       "</table>\n",
       "</div>"
      ],
      "text/plain": [
       "         제품번호      물품명  물품대분류   물품중분류       상품중량 식품/비식품 유기신선\n",
       "0  100021V2_0    2단무늬컵  식기/편백      자기         1p    비식품  비식품\n",
       "1  100022V2_1  7곡딸기롤과자     과자      스낵  100g/10개입     식품  유기농\n",
       "2  100023V2_2     7곡참식   식사대용   선식/생식       700g     식품  유기농\n",
       "3  100024V2_3      가리비   생물수산  패류/갑각류      1.5kg     식품   신선\n",
       "4  100025V2_3      가리비   생물수산  패류/갑각류        1kg     식품   신선"
      ]
     },
     "execution_count": 310,
     "metadata": {},
     "output_type": "execute_result"
    }
   ],
   "source": [
    "product_data.head()"
   ]
  },
  {
   "cell_type": "code",
   "execution_count": 311,
   "id": "a04a4a8b-7a0b-46fd-9b80-bf467143b547",
   "metadata": {},
   "outputs": [
    {
     "name": "stdout",
     "output_type": "stream",
     "text": [
      "CSV 파일이 C:/Users/campus4D045/Desktop/data/product_data1.csv 경로에 저장되었습니다.\n"
     ]
    }
   ],
   "source": [
    "# CSV 파일로 추출\n",
    "file_path = 'C:/Users/campus4D045/Desktop/data/product_data1.csv'\n",
    "product_data.to_csv(file_path, index=False, encoding='utf-8')\n",
    "\n",
    "# 확인 메시지 출력\n",
    "print(f\"CSV 파일이 {file_path} 경로에 저장되었습니다.\")"
   ]
  },
  {
   "cell_type": "markdown",
   "id": "b3e26176-15b3-4d1a-bc50-94236084c981",
   "metadata": {
    "jp-MarkdownHeadingCollapsed": true
   },
   "source": [
    "# product_data 대분류 범주화"
   ]
  },
  {
   "cell_type": "code",
   "execution_count": 23,
   "id": "815aa3a2-f611-4552-a876-e3b806cfdb32",
   "metadata": {},
   "outputs": [
    {
     "data": {
      "text/plain": [
       "array(['식기/편백', '과자', '식사대용', '생물수산', '중량(정육)', '음료', '열매채소', '냉동수산',\n",
       "       '말린나물/건재', '수산가공', '소스/기타양념', '육가공', '버섯', '과일', '기름/식초', '차',\n",
       "       '밀가공', '빵', '가루', '해조', '잎/줄기채소', '김치', '생활용품', '세제/세안', '건강일반',\n",
       "       '양념채소', '건어물', '즉석조리', '장', '콩/화본/깨', '견과', '어묵/묵', '밑반찬', '닭/오리',\n",
       "       '소', '잼/병조림/기타', '알', '돼지', '소금', '뿌리채소', '떡', '홍삼/녹용', '쌈채소류',\n",
       "       '꿀', '과실주', '과일채소', '유색미/발아미', '두부/유부', '절임/장아찌', '유제품', '전통주',\n",
       "       '멥쌀', '보리/혼합곡', '화장품', '콩나물', '손질한채소', '섬유', '찹쌀', '김장채소'],\n",
       "      dtype=object)"
      ]
     },
     "execution_count": 23,
     "metadata": {},
     "output_type": "execute_result"
    }
   ],
   "source": [
    "product_data['물품대분류'].unique()"
   ]
  },
  {
   "cell_type": "code",
   "execution_count": 54,
   "id": "54514a85-e032-4fbc-9aae-bca9e9f8fce9",
   "metadata": {
    "collapsed": true,
    "jupyter": {
     "outputs_hidden": true
    }
   },
   "outputs": [
    {
     "data": {
      "text/plain": [
       "물품대분류\n",
       "식기/편백       203\n",
       "과일          139\n",
       "냉동수산        108\n",
       "음료          106\n",
       "생활용품        101\n",
       "잎/줄기채소       98\n",
       "화장품          89\n",
       "과자           83\n",
       "소            74\n",
       "섬유           73\n",
       "빵            69\n",
       "세제/세안        69\n",
       "밀가공          64\n",
       "생물수산         62\n",
       "열매채소         59\n",
       "육가공          58\n",
       "건강일반         55\n",
       "콩/화본/깨       55\n",
       "가루           49\n",
       "돼지           48\n",
       "뿌리채소         47\n",
       "과일채소         46\n",
       "수산가공         43\n",
       "중량(정육)       42\n",
       "식사대용         40\n",
       "차            39\n",
       "양념채소         39\n",
       "유제품          37\n",
       "떡            37\n",
       "건어물          36\n",
       "버섯           34\n",
       "소스/기타양념      32\n",
       "말린나물/건재      32\n",
       "닭/오리         31\n",
       "장            30\n",
       "해조           28\n",
       "밑반찬          27\n",
       "견과           25\n",
       "즉석조리         21\n",
       "김치           20\n",
       "알            18\n",
       "기름/식초        18\n",
       "홍삼/녹용        16\n",
       "쌈채소류         15\n",
       "멥쌀           15\n",
       "절임/장아찌       14\n",
       "잼/병조림/기타     13\n",
       "어묵/묵         13\n",
       "두부/유부        13\n",
       "소금           11\n",
       "유색미/발아미      10\n",
       "보리/혼합곡       10\n",
       "꿀            10\n",
       "전통주           8\n",
       "과실주           6\n",
       "찹쌀            5\n",
       "콩나물           4\n",
       "손질한채소         1\n",
       "김장채소          1\n",
       "Name: count, dtype: int64"
      ]
     },
     "execution_count": 54,
     "metadata": {},
     "output_type": "execute_result"
    }
   ],
   "source": [
    "product_data['물품대분류'].value_counts()\n",
    "# 5개 품목 식품 아님(식기/편백, 생활용품, 화장품, 섬유, 세제/세안)"
   ]
  },
  {
   "cell_type": "code",
   "execution_count": 36,
   "id": "d9c1c4f2-e753-4c12-b7db-1709b3bb4cfb",
   "metadata": {},
   "outputs": [
    {
     "name": "stdout",
     "output_type": "stream",
     "text": [
      "주어진 카테고리에 속하는 물품대분류의 퍼센트: 20.99%\n"
     ]
    }
   ],
   "source": [
    "categories = ['식기/편백', '생활용품', '화장품', '섬유', '세제/세안']\n",
    "\n",
    "# 선택된 행 필터링\n",
    "selected_rows = product_data['물품대분류'].isin(categories)\n",
    "\n",
    "# 선택된 행의 개수\n",
    "selected_count = selected_rows.sum()\n",
    "\n",
    "# 전체 행의 개수\n",
    "total_count = len(product_data)\n",
    "\n",
    "# 퍼센트 계산\n",
    "percentage = (selected_count / total_count) * 100\n",
    "\n",
    "# 결과 출력\n",
    "print(f\"주어진 카테고리에 속하는 물품대분류의 퍼센트: {percentage:.2f}%\")"
   ]
  },
  {
   "cell_type": "markdown",
   "id": "07fc3a71-ba26-4960-9139-ccdcc35ffe26",
   "metadata": {
    "jp-MarkdownHeadingCollapsed": true
   },
   "source": [
    "# 상품중량이 Null 인 값들 csv/xlsx 로 추출"
   ]
  },
  {
   "cell_type": "code",
   "execution_count": 57,
   "id": "6fcc3ddd-6e34-47a8-b8f9-574c9616bd9e",
   "metadata": {
    "collapsed": true,
    "jupyter": {
     "outputs_hidden": true
    }
   },
   "outputs": [
    {
     "ename": "AttributeError",
     "evalue": "'DataFrame' object has no attribute 'to_xlsx'",
     "output_type": "error",
     "traceback": [
      "\u001b[1;31m---------------------------------------------------------------------------\u001b[0m",
      "\u001b[1;31mAttributeError\u001b[0m                            Traceback (most recent call last)",
      "Cell \u001b[1;32mIn[57], line 9\u001b[0m\n\u001b[0;32m      7\u001b[0m \u001b[38;5;66;03m# CSV로 추출\u001b[39;00m\n\u001b[0;32m      8\u001b[0m output_path \u001b[38;5;241m=\u001b[39m \u001b[38;5;124m\"\u001b[39m\u001b[38;5;124munique_null_weight_products.xlsx\u001b[39m\u001b[38;5;124m\"\u001b[39m\n\u001b[1;32m----> 9\u001b[0m unique_null_weight_products\u001b[38;5;241m.\u001b[39mto_xlsx(output_path, index\u001b[38;5;241m=\u001b[39m\u001b[38;5;28;01mFalse\u001b[39;00m)\n\u001b[0;32m     11\u001b[0m \u001b[38;5;28mprint\u001b[39m(\u001b[38;5;124mf\u001b[39m\u001b[38;5;124m\"\u001b[39m\u001b[38;5;124mCSV file saved to \u001b[39m\u001b[38;5;132;01m{\u001b[39;00moutput_path\u001b[38;5;132;01m}\u001b[39;00m\u001b[38;5;124m\"\u001b[39m)\n",
      "File \u001b[1;32m~\\anaconda3\\Lib\\site-packages\\pandas\\core\\generic.py:6299\u001b[0m, in \u001b[0;36mNDFrame.__getattr__\u001b[1;34m(self, name)\u001b[0m\n\u001b[0;32m   6292\u001b[0m \u001b[38;5;28;01mif\u001b[39;00m (\n\u001b[0;32m   6293\u001b[0m     name \u001b[38;5;129;01mnot\u001b[39;00m \u001b[38;5;129;01min\u001b[39;00m \u001b[38;5;28mself\u001b[39m\u001b[38;5;241m.\u001b[39m_internal_names_set\n\u001b[0;32m   6294\u001b[0m     \u001b[38;5;129;01mand\u001b[39;00m name \u001b[38;5;129;01mnot\u001b[39;00m \u001b[38;5;129;01min\u001b[39;00m \u001b[38;5;28mself\u001b[39m\u001b[38;5;241m.\u001b[39m_metadata\n\u001b[0;32m   6295\u001b[0m     \u001b[38;5;129;01mand\u001b[39;00m name \u001b[38;5;129;01mnot\u001b[39;00m \u001b[38;5;129;01min\u001b[39;00m \u001b[38;5;28mself\u001b[39m\u001b[38;5;241m.\u001b[39m_accessors\n\u001b[0;32m   6296\u001b[0m     \u001b[38;5;129;01mand\u001b[39;00m \u001b[38;5;28mself\u001b[39m\u001b[38;5;241m.\u001b[39m_info_axis\u001b[38;5;241m.\u001b[39m_can_hold_identifiers_and_holds_name(name)\n\u001b[0;32m   6297\u001b[0m ):\n\u001b[0;32m   6298\u001b[0m     \u001b[38;5;28;01mreturn\u001b[39;00m \u001b[38;5;28mself\u001b[39m[name]\n\u001b[1;32m-> 6299\u001b[0m \u001b[38;5;28;01mreturn\u001b[39;00m \u001b[38;5;28mobject\u001b[39m\u001b[38;5;241m.\u001b[39m\u001b[38;5;21m__getattribute__\u001b[39m(\u001b[38;5;28mself\u001b[39m, name)\n",
      "\u001b[1;31mAttributeError\u001b[0m: 'DataFrame' object has no attribute 'to_xlsx'"
     ]
    }
   ],
   "source": [
    "# # '상품중량'이 null인 행 필터링\n",
    "# null_weight_products = product_data[product_data['상품중량'].isnull()]\n",
    "\n",
    "# # 고유한 값 찾기\n",
    "# unique_null_weight_products = null_weight_products.drop_duplicates()\n",
    "\n",
    "# # CSV로 추출\n",
    "# output_path = \"unique_null_weight_products.csv\"\n",
    "# unique_null_weight_products.to_csv(output_path, index=False)\n",
    "\n",
    "# print(f\"CSV file saved to {output_path}\")"
   ]
  },
  {
   "cell_type": "code",
   "execution_count": 58,
   "id": "a7c0864a-149d-4b78-ae1d-4a63fec1ad1e",
   "metadata": {},
   "outputs": [
    {
     "name": "stdout",
     "output_type": "stream",
     "text": [
      "Excel file saved to unique_null_weight_products.xlsx\n"
     ]
    }
   ],
   "source": [
    "# # '상품중량'이 null인 행 필터링\n",
    "# null_weight_products = product_data[product_data['상품중량'].isnull()]\n",
    "\n",
    "# # 고유한 값 찾기\n",
    "# unique_null_weight_products = null_weight_products.drop_duplicates()\n",
    "\n",
    "# # Excel로 추출\n",
    "# output_path = \"unique_null_weight_products.xlsx\"\n",
    "# unique_null_weight_products.to_excel(output_path, index=False)\n",
    "\n",
    "# print(f\"Excel file saved to {output_path}\")"
   ]
  },
  {
   "cell_type": "code",
   "execution_count": null,
   "id": "2fe4ca89-7a0e-4ee9-9aac-0c86c8470b5b",
   "metadata": {},
   "outputs": [],
   "source": [
    "# 상품중량이 Null인 값 제거\n",
    "# product_data.dropna(subset=['상품중량'])\n",
    "# 상품중량이 Null인 값 제거 후 조회\n",
    "# product_data[product_data['상품중량'].isnull()]"
   ]
  },
  {
   "cell_type": "markdown",
   "id": "8d7bc82a-1b06-414e-b340-78ab387d44a3",
   "metadata": {
    "jp-MarkdownHeadingCollapsed": true
   },
   "source": [
    "# Merge"
   ]
  },
  {
   "cell_type": "code",
   "execution_count": 399,
   "id": "725d8148-3dd7-40a4-abb3-8a6577fe7e96",
   "metadata": {},
   "outputs": [],
   "source": [
    "sales_data1 = pd.read_csv('C:/Users/campus4D045/Desktop/data/sales_data1.csv')\n",
    "member_data1 = pd.read_csv('C:/Users/campus4D045/Desktop/data/member_data1.csv')\n",
    "product_data1 = pd.read_csv('C:/Users/campus4D045/Desktop/data/product_data1.csv')"
   ]
  },
  {
   "cell_type": "code",
   "execution_count": 400,
   "id": "78a7501e-37fb-4df2-a4d9-6bdba7ac2ab2",
   "metadata": {},
   "outputs": [
    {
     "data": {
      "text/html": [
       "<div>\n",
       "<style scoped>\n",
       "    .dataframe tbody tr th:only-of-type {\n",
       "        vertical-align: middle;\n",
       "    }\n",
       "\n",
       "    .dataframe tbody tr th {\n",
       "        vertical-align: top;\n",
       "    }\n",
       "\n",
       "    .dataframe thead th {\n",
       "        text-align: right;\n",
       "    }\n",
       "</style>\n",
       "<table border=\"1\" class=\"dataframe\">\n",
       "  <thead>\n",
       "    <tr style=\"text-align: right;\">\n",
       "      <th></th>\n",
       "      <th>회원번호</th>\n",
       "      <th>회원상태</th>\n",
       "      <th>구매수량</th>\n",
       "      <th>구매금액</th>\n",
       "      <th>주문일시</th>\n",
       "      <th>배송시작일</th>\n",
       "      <th>배송완료일</th>\n",
       "      <th>사용 적립금</th>\n",
       "      <th>사용 포인트 네이버</th>\n",
       "      <th>주문취소여부</th>\n",
       "      <th>주문시간</th>\n",
       "      <th>제품번호</th>\n",
       "      <th>배송기간</th>\n",
       "      <th>오전오후</th>\n",
       "    </tr>\n",
       "  </thead>\n",
       "  <tbody>\n",
       "    <tr>\n",
       "      <th>0</th>\n",
       "      <td>1032097472</td>\n",
       "      <td>정상회원</td>\n",
       "      <td>1.0</td>\n",
       "      <td>7083</td>\n",
       "      <td>2022-01-08</td>\n",
       "      <td>NaN</td>\n",
       "      <td>NaN</td>\n",
       "      <td>0</td>\n",
       "      <td>0</td>\n",
       "      <td>주문취소</td>\n",
       "      <td>13:00:00</td>\n",
       "      <td>100021783V2_1337</td>\n",
       "      <td>NaN</td>\n",
       "      <td>오후</td>\n",
       "    </tr>\n",
       "    <tr>\n",
       "      <th>1</th>\n",
       "      <td>1032097472</td>\n",
       "      <td>정상회원</td>\n",
       "      <td>1.0</td>\n",
       "      <td>29865</td>\n",
       "      <td>2022-01-08</td>\n",
       "      <td>2022-01-08</td>\n",
       "      <td>2022-01-08</td>\n",
       "      <td>0</td>\n",
       "      <td>0</td>\n",
       "      <td>NaN</td>\n",
       "      <td>13:00:00</td>\n",
       "      <td>100022137V2_1606</td>\n",
       "      <td>0 days</td>\n",
       "      <td>오후</td>\n",
       "    </tr>\n",
       "    <tr>\n",
       "      <th>2</th>\n",
       "      <td>1032097472</td>\n",
       "      <td>정상회원</td>\n",
       "      <td>1.0</td>\n",
       "      <td>23164</td>\n",
       "      <td>2022-01-08</td>\n",
       "      <td>2022-01-08</td>\n",
       "      <td>2022-01-09</td>\n",
       "      <td>0</td>\n",
       "      <td>0</td>\n",
       "      <td>NaN</td>\n",
       "      <td>13:00:00</td>\n",
       "      <td>100021452V2_1113</td>\n",
       "      <td>1 days</td>\n",
       "      <td>오후</td>\n",
       "    </tr>\n",
       "    <tr>\n",
       "      <th>3</th>\n",
       "      <td>369152832</td>\n",
       "      <td>정상회원</td>\n",
       "      <td>1.0</td>\n",
       "      <td>16655</td>\n",
       "      <td>2022-01-08</td>\n",
       "      <td>2022-01-08</td>\n",
       "      <td>2022-01-09</td>\n",
       "      <td>0</td>\n",
       "      <td>0</td>\n",
       "      <td>NaN</td>\n",
       "      <td>13:00:00</td>\n",
       "      <td>10002931V2_708</td>\n",
       "      <td>1 days</td>\n",
       "      <td>오후</td>\n",
       "    </tr>\n",
       "    <tr>\n",
       "      <th>4</th>\n",
       "      <td>1032097472</td>\n",
       "      <td>정상회원</td>\n",
       "      <td>1.0</td>\n",
       "      <td>8423</td>\n",
       "      <td>2022-01-08</td>\n",
       "      <td>NaN</td>\n",
       "      <td>NaN</td>\n",
       "      <td>0</td>\n",
       "      <td>0</td>\n",
       "      <td>주문취소</td>\n",
       "      <td>13:00:00</td>\n",
       "      <td>100022085V2_1559</td>\n",
       "      <td>NaN</td>\n",
       "      <td>오후</td>\n",
       "    </tr>\n",
       "  </tbody>\n",
       "</table>\n",
       "</div>"
      ],
      "text/plain": [
       "         회원번호  회원상태  구매수량   구매금액        주문일시       배송시작일       배송완료일  사용 적립금  \\\n",
       "0  1032097472  정상회원   1.0   7083  2022-01-08         NaN         NaN       0   \n",
       "1  1032097472  정상회원   1.0  29865  2022-01-08  2022-01-08  2022-01-08       0   \n",
       "2  1032097472  정상회원   1.0  23164  2022-01-08  2022-01-08  2022-01-09       0   \n",
       "3   369152832  정상회원   1.0  16655  2022-01-08  2022-01-08  2022-01-09       0   \n",
       "4  1032097472  정상회원   1.0   8423  2022-01-08         NaN         NaN       0   \n",
       "\n",
       "   사용 포인트 네이버 주문취소여부      주문시간              제품번호    배송기간 오전오후  \n",
       "0           0   주문취소  13:00:00  100021783V2_1337     NaN   오후  \n",
       "1           0    NaN  13:00:00  100022137V2_1606  0 days   오후  \n",
       "2           0    NaN  13:00:00  100021452V2_1113  1 days   오후  \n",
       "3           0    NaN  13:00:00    10002931V2_708  1 days   오후  \n",
       "4           0   주문취소  13:00:00  100022085V2_1559     NaN   오후  "
      ]
     },
     "execution_count": 400,
     "metadata": {},
     "output_type": "execute_result"
    }
   ],
   "source": [
    "sales_data1.head()"
   ]
  },
  {
   "cell_type": "code",
   "execution_count": 401,
   "id": "95c0eb71-55a5-4daa-ac86-ecc551a82990",
   "metadata": {},
   "outputs": [
    {
     "data": {
      "text/html": [
       "<div>\n",
       "<style scoped>\n",
       "    .dataframe tbody tr th:only-of-type {\n",
       "        vertical-align: middle;\n",
       "    }\n",
       "\n",
       "    .dataframe tbody tr th {\n",
       "        vertical-align: top;\n",
       "    }\n",
       "\n",
       "    .dataframe thead th {\n",
       "        text-align: right;\n",
       "    }\n",
       "</style>\n",
       "<table border=\"1\" class=\"dataframe\">\n",
       "  <thead>\n",
       "    <tr style=\"text-align: right;\">\n",
       "      <th></th>\n",
       "      <th>회원번호</th>\n",
       "      <th>회원상태</th>\n",
       "      <th>성별</th>\n",
       "      <th>나이</th>\n",
       "      <th>등록카드</th>\n",
       "      <th>결혼</th>\n",
       "      <th>구독여부</th>\n",
       "      <th>주소지</th>\n",
       "      <th>세부주소지</th>\n",
       "    </tr>\n",
       "  </thead>\n",
       "  <tbody>\n",
       "    <tr>\n",
       "      <th>0</th>\n",
       "      <td>18764160</td>\n",
       "      <td>정상회원</td>\n",
       "      <td>여</td>\n",
       "      <td>68</td>\n",
       "      <td>농협중앙회</td>\n",
       "      <td>기혼</td>\n",
       "      <td>False</td>\n",
       "      <td>서울특별시</td>\n",
       "      <td>성동구</td>\n",
       "    </tr>\n",
       "    <tr>\n",
       "      <th>1</th>\n",
       "      <td>18792000</td>\n",
       "      <td>정상회원</td>\n",
       "      <td>남</td>\n",
       "      <td>83</td>\n",
       "      <td>연결앱결제</td>\n",
       "      <td>미확인</td>\n",
       "      <td>False</td>\n",
       "      <td>강원도</td>\n",
       "      <td>강릉시</td>\n",
       "    </tr>\n",
       "    <tr>\n",
       "      <th>2</th>\n",
       "      <td>18942336</td>\n",
       "      <td>정상회원</td>\n",
       "      <td>여</td>\n",
       "      <td>39</td>\n",
       "      <td>신한은행</td>\n",
       "      <td>기혼</td>\n",
       "      <td>False</td>\n",
       "      <td>인천광역시</td>\n",
       "      <td>중구</td>\n",
       "    </tr>\n",
       "    <tr>\n",
       "      <th>3</th>\n",
       "      <td>18949760</td>\n",
       "      <td>정상회원</td>\n",
       "      <td>여</td>\n",
       "      <td>73</td>\n",
       "      <td>기업은행</td>\n",
       "      <td>미확인</td>\n",
       "      <td>NaN</td>\n",
       "      <td>강원도</td>\n",
       "      <td>홍천군</td>\n",
       "    </tr>\n",
       "    <tr>\n",
       "      <th>4</th>\n",
       "      <td>19391488</td>\n",
       "      <td>정상회원</td>\n",
       "      <td>여</td>\n",
       "      <td>52</td>\n",
       "      <td>연결앱결제</td>\n",
       "      <td>기혼</td>\n",
       "      <td>False</td>\n",
       "      <td>대전광역시</td>\n",
       "      <td>중구</td>\n",
       "    </tr>\n",
       "  </tbody>\n",
       "</table>\n",
       "</div>"
      ],
      "text/plain": [
       "       회원번호  회원상태 성별  나이   등록카드   결혼   구독여부    주소지 세부주소지\n",
       "0  18764160  정상회원  여  68  농협중앙회   기혼  False  서울특별시   성동구\n",
       "1  18792000  정상회원  남  83  연결앱결제  미확인  False    강원도   강릉시\n",
       "2  18942336  정상회원  여  39   신한은행   기혼  False  인천광역시    중구\n",
       "3  18949760  정상회원  여  73   기업은행  미확인    NaN    강원도   홍천군\n",
       "4  19391488  정상회원  여  52  연결앱결제   기혼  False  대전광역시    중구"
      ]
     },
     "execution_count": 401,
     "metadata": {},
     "output_type": "execute_result"
    }
   ],
   "source": [
    "member_data1.head()"
   ]
  },
  {
   "cell_type": "code",
   "execution_count": 402,
   "id": "d44cbcc9-5c7e-4e6a-99f9-85094eb2a886",
   "metadata": {},
   "outputs": [
    {
     "data": {
      "text/html": [
       "<div>\n",
       "<style scoped>\n",
       "    .dataframe tbody tr th:only-of-type {\n",
       "        vertical-align: middle;\n",
       "    }\n",
       "\n",
       "    .dataframe tbody tr th {\n",
       "        vertical-align: top;\n",
       "    }\n",
       "\n",
       "    .dataframe thead th {\n",
       "        text-align: right;\n",
       "    }\n",
       "</style>\n",
       "<table border=\"1\" class=\"dataframe\">\n",
       "  <thead>\n",
       "    <tr style=\"text-align: right;\">\n",
       "      <th></th>\n",
       "      <th>제품번호</th>\n",
       "      <th>물품명</th>\n",
       "      <th>물품대분류</th>\n",
       "      <th>물품중분류</th>\n",
       "      <th>상품중량</th>\n",
       "      <th>식품/비식품</th>\n",
       "      <th>유기신선</th>\n",
       "    </tr>\n",
       "  </thead>\n",
       "  <tbody>\n",
       "    <tr>\n",
       "      <th>0</th>\n",
       "      <td>100021V2_0</td>\n",
       "      <td>2단무늬컵</td>\n",
       "      <td>식기/편백</td>\n",
       "      <td>자기</td>\n",
       "      <td>1p</td>\n",
       "      <td>비식품</td>\n",
       "      <td>비식품</td>\n",
       "    </tr>\n",
       "    <tr>\n",
       "      <th>1</th>\n",
       "      <td>100022V2_1</td>\n",
       "      <td>7곡딸기롤과자</td>\n",
       "      <td>과자</td>\n",
       "      <td>스낵</td>\n",
       "      <td>100g/10개입</td>\n",
       "      <td>식품</td>\n",
       "      <td>유기농</td>\n",
       "    </tr>\n",
       "    <tr>\n",
       "      <th>2</th>\n",
       "      <td>100023V2_2</td>\n",
       "      <td>7곡참식</td>\n",
       "      <td>식사대용</td>\n",
       "      <td>선식/생식</td>\n",
       "      <td>700g</td>\n",
       "      <td>식품</td>\n",
       "      <td>유기농</td>\n",
       "    </tr>\n",
       "    <tr>\n",
       "      <th>3</th>\n",
       "      <td>100024V2_3</td>\n",
       "      <td>가리비</td>\n",
       "      <td>생물수산</td>\n",
       "      <td>패류/갑각류</td>\n",
       "      <td>1.5kg</td>\n",
       "      <td>식품</td>\n",
       "      <td>신선</td>\n",
       "    </tr>\n",
       "    <tr>\n",
       "      <th>4</th>\n",
       "      <td>100025V2_3</td>\n",
       "      <td>가리비</td>\n",
       "      <td>생물수산</td>\n",
       "      <td>패류/갑각류</td>\n",
       "      <td>1kg</td>\n",
       "      <td>식품</td>\n",
       "      <td>신선</td>\n",
       "    </tr>\n",
       "  </tbody>\n",
       "</table>\n",
       "</div>"
      ],
      "text/plain": [
       "         제품번호      물품명  물품대분류   물품중분류       상품중량 식품/비식품 유기신선\n",
       "0  100021V2_0    2단무늬컵  식기/편백      자기         1p    비식품  비식품\n",
       "1  100022V2_1  7곡딸기롤과자     과자      스낵  100g/10개입     식품  유기농\n",
       "2  100023V2_2     7곡참식   식사대용   선식/생식       700g     식품  유기농\n",
       "3  100024V2_3      가리비   생물수산  패류/갑각류      1.5kg     식품   신선\n",
       "4  100025V2_3      가리비   생물수산  패류/갑각류        1kg     식품   신선"
      ]
     },
     "execution_count": 402,
     "metadata": {},
     "output_type": "execute_result"
    }
   ],
   "source": [
    "product_data1.head()"
   ]
  },
  {
   "cell_type": "code",
   "execution_count": 406,
   "id": "daba303e-c2f8-44b2-85b7-78a49ee5c649",
   "metadata": {},
   "outputs": [
    {
     "data": {
      "text/html": [
       "<div>\n",
       "<style scoped>\n",
       "    .dataframe tbody tr th:only-of-type {\n",
       "        vertical-align: middle;\n",
       "    }\n",
       "\n",
       "    .dataframe tbody tr th {\n",
       "        vertical-align: top;\n",
       "    }\n",
       "\n",
       "    .dataframe thead th {\n",
       "        text-align: right;\n",
       "    }\n",
       "</style>\n",
       "<table border=\"1\" class=\"dataframe\">\n",
       "  <thead>\n",
       "    <tr style=\"text-align: right;\">\n",
       "      <th></th>\n",
       "      <th>회원번호</th>\n",
       "      <th>회원상태_x</th>\n",
       "      <th>구매수량</th>\n",
       "      <th>구매금액</th>\n",
       "      <th>주문일시</th>\n",
       "      <th>배송시작일</th>\n",
       "      <th>배송완료일</th>\n",
       "      <th>사용 적립금</th>\n",
       "      <th>사용 포인트 네이버</th>\n",
       "      <th>주문취소여부</th>\n",
       "      <th>...</th>\n",
       "      <th>결혼</th>\n",
       "      <th>구독여부</th>\n",
       "      <th>주소지</th>\n",
       "      <th>세부주소지</th>\n",
       "      <th>물품명</th>\n",
       "      <th>물품대분류</th>\n",
       "      <th>물품중분류</th>\n",
       "      <th>상품중량</th>\n",
       "      <th>식품/비식품</th>\n",
       "      <th>유기신선</th>\n",
       "    </tr>\n",
       "  </thead>\n",
       "  <tbody>\n",
       "    <tr>\n",
       "      <th>0</th>\n",
       "      <td>1032097472</td>\n",
       "      <td>정상회원</td>\n",
       "      <td>1.0</td>\n",
       "      <td>7083</td>\n",
       "      <td>2022-01-08</td>\n",
       "      <td>NaN</td>\n",
       "      <td>NaN</td>\n",
       "      <td>0</td>\n",
       "      <td>0</td>\n",
       "      <td>주문취소</td>\n",
       "      <td>...</td>\n",
       "      <td>기혼</td>\n",
       "      <td>NaN</td>\n",
       "      <td>경기도</td>\n",
       "      <td>화성시</td>\n",
       "      <td>유정란/친환경</td>\n",
       "      <td>알</td>\n",
       "      <td>논지엠오유정란</td>\n",
       "      <td>10알</td>\n",
       "      <td>식품</td>\n",
       "      <td>신선</td>\n",
       "    </tr>\n",
       "    <tr>\n",
       "      <th>1</th>\n",
       "      <td>1032097472</td>\n",
       "      <td>정상회원</td>\n",
       "      <td>1.0</td>\n",
       "      <td>29865</td>\n",
       "      <td>2022-01-08</td>\n",
       "      <td>2022-01-08</td>\n",
       "      <td>2022-01-08</td>\n",
       "      <td>0</td>\n",
       "      <td>0</td>\n",
       "      <td>NaN</td>\n",
       "      <td>...</td>\n",
       "      <td>기혼</td>\n",
       "      <td>NaN</td>\n",
       "      <td>경기도</td>\n",
       "      <td>화성시</td>\n",
       "      <td>칠분도미/유</td>\n",
       "      <td>멥쌀</td>\n",
       "      <td>멥쌀</td>\n",
       "      <td>2kg</td>\n",
       "      <td>기타</td>\n",
       "      <td>비식품</td>\n",
       "    </tr>\n",
       "    <tr>\n",
       "      <th>2</th>\n",
       "      <td>1032097472</td>\n",
       "      <td>정상회원</td>\n",
       "      <td>1.0</td>\n",
       "      <td>23164</td>\n",
       "      <td>2022-01-08</td>\n",
       "      <td>2022-01-08</td>\n",
       "      <td>2022-01-09</td>\n",
       "      <td>0</td>\n",
       "      <td>0</td>\n",
       "      <td>NaN</td>\n",
       "      <td>...</td>\n",
       "      <td>기혼</td>\n",
       "      <td>NaN</td>\n",
       "      <td>경기도</td>\n",
       "      <td>화성시</td>\n",
       "      <td>양념닭갈비</td>\n",
       "      <td>육가공</td>\n",
       "      <td>양념육</td>\n",
       "      <td>500g</td>\n",
       "      <td>식품</td>\n",
       "      <td>기타</td>\n",
       "    </tr>\n",
       "    <tr>\n",
       "      <th>3</th>\n",
       "      <td>369152832</td>\n",
       "      <td>정상회원</td>\n",
       "      <td>1.0</td>\n",
       "      <td>16655</td>\n",
       "      <td>2022-01-08</td>\n",
       "      <td>2022-01-08</td>\n",
       "      <td>2022-01-09</td>\n",
       "      <td>0</td>\n",
       "      <td>0</td>\n",
       "      <td>NaN</td>\n",
       "      <td>...</td>\n",
       "      <td>기혼</td>\n",
       "      <td>False</td>\n",
       "      <td>울산광역시</td>\n",
       "      <td>남구</td>\n",
       "      <td>볶음멸치/상</td>\n",
       "      <td>건어물</td>\n",
       "      <td>멸치류</td>\n",
       "      <td>300g</td>\n",
       "      <td>식품</td>\n",
       "      <td>기타</td>\n",
       "    </tr>\n",
       "    <tr>\n",
       "      <th>4</th>\n",
       "      <td>1032097472</td>\n",
       "      <td>정상회원</td>\n",
       "      <td>1.0</td>\n",
       "      <td>8423</td>\n",
       "      <td>2022-01-08</td>\n",
       "      <td>NaN</td>\n",
       "      <td>NaN</td>\n",
       "      <td>0</td>\n",
       "      <td>0</td>\n",
       "      <td>주문취소</td>\n",
       "      <td>...</td>\n",
       "      <td>기혼</td>\n",
       "      <td>NaN</td>\n",
       "      <td>경기도</td>\n",
       "      <td>화성시</td>\n",
       "      <td>채도라지</td>\n",
       "      <td>뿌리채소</td>\n",
       "      <td>도라지/손질</td>\n",
       "      <td>150g</td>\n",
       "      <td>식품</td>\n",
       "      <td>신선/유기농</td>\n",
       "    </tr>\n",
       "  </tbody>\n",
       "</table>\n",
       "<p>5 rows × 28 columns</p>\n",
       "</div>"
      ],
      "text/plain": [
       "         회원번호 회원상태_x  구매수량   구매금액        주문일시       배송시작일       배송완료일  사용 적립금  \\\n",
       "0  1032097472   정상회원   1.0   7083  2022-01-08         NaN         NaN       0   \n",
       "1  1032097472   정상회원   1.0  29865  2022-01-08  2022-01-08  2022-01-08       0   \n",
       "2  1032097472   정상회원   1.0  23164  2022-01-08  2022-01-08  2022-01-09       0   \n",
       "3   369152832   정상회원   1.0  16655  2022-01-08  2022-01-08  2022-01-09       0   \n",
       "4  1032097472   정상회원   1.0   8423  2022-01-08         NaN         NaN       0   \n",
       "\n",
       "   사용 포인트 네이버 주문취소여부  ...  결혼   구독여부    주소지 세부주소지      물품명 물품대분류    물품중분류  \\\n",
       "0           0   주문취소  ...  기혼    NaN    경기도   화성시  유정란/친환경     알  논지엠오유정란   \n",
       "1           0    NaN  ...  기혼    NaN    경기도   화성시   칠분도미/유    멥쌀       멥쌀   \n",
       "2           0    NaN  ...  기혼    NaN    경기도   화성시    양념닭갈비   육가공      양념육   \n",
       "3           0    NaN  ...  기혼  False  울산광역시    남구   볶음멸치/상   건어물      멸치류   \n",
       "4           0   주문취소  ...  기혼    NaN    경기도   화성시     채도라지  뿌리채소   도라지/손질   \n",
       "\n",
       "   상품중량 식품/비식품    유기신선  \n",
       "0   10알     식품      신선  \n",
       "1   2kg     기타     비식품  \n",
       "2  500g     식품      기타  \n",
       "3  300g     식품      기타  \n",
       "4  150g     식품  신선/유기농  \n",
       "\n",
       "[5 rows x 28 columns]"
      ]
     },
     "execution_count": 406,
     "metadata": {},
     "output_type": "execute_result"
    }
   ],
   "source": [
    "# sales_data1와 member_data1를 member_id를 기준으로 병합\n",
    "merged_data = pd.merge(sales_data1, member_data1, on='회원번호', how='left')\n",
    "\n",
    "# merged_data1와 product_data1를 product_id를 기준으로 병합\n",
    "final_data = pd.merge(merged_data, product_data1, on='제품번호', how='left')\n",
    "\n",
    "# 결과 출력\n",
    "final_data.head()"
   ]
  },
  {
   "cell_type": "code",
   "execution_count": 407,
   "id": "40ffed6c-e0ea-407f-85a7-7b0f25454562",
   "metadata": {},
   "outputs": [
    {
     "name": "stdout",
     "output_type": "stream",
     "text": [
      "CSV 파일이 C:/Users/campus4D045/Desktop/data/final_data.csv 경로에 저장되었습니다.\n"
     ]
    }
   ],
   "source": [
    "# CSV 파일로 추출\n",
    "file_path = 'C:/Users/campus4D045/Desktop/data/final_data.csv'\n",
    "final_data.to_csv(file_path, index=False, encoding='utf-8')\n",
    "\n",
    "# 확인 메시지 출력\n",
    "print(f\"CSV 파일이 {file_path} 경로에 저장되었습니다.\")"
   ]
  },
  {
   "cell_type": "code",
   "execution_count": 408,
   "id": "197c768d-a49e-4bdf-b313-5bea4095ad5b",
   "metadata": {},
   "outputs": [
    {
     "data": {
      "text/plain": [
       "Index(['회원번호', '회원상태_x', '구매수량', '구매금액', '주문일시', '배송시작일', '배송완료일', '사용 적립금',\n",
       "       '사용 포인트 네이버', '주문취소여부', '주문시간', '제품번호', '배송기간', '오전오후', '회원상태_y', '성별',\n",
       "       '나이', '등록카드', '결혼', '구독여부', '주소지', '세부주소지', '물품명', '물품대분류', '물품중분류',\n",
       "       '상품중량', '식품/비식품', '유기신선'],\n",
       "      dtype='object')"
      ]
     },
     "execution_count": 408,
     "metadata": {},
     "output_type": "execute_result"
    }
   ],
   "source": [
    "final_data.columns"
   ]
  },
  {
   "cell_type": "code",
   "execution_count": 28,
   "id": "48283a5b-984b-4790-b8c4-00a0eb7f64c8",
   "metadata": {
    "scrolled": true
   },
   "outputs": [],
   "source": [
    "# 방법 1: rename() 메서드 사용\n",
    "final_data.rename(columns={'회원상태_x': '회원상태'}, inplace=True)"
   ]
  },
  {
   "cell_type": "code",
   "execution_count": 413,
   "id": "bac8a4b9-27b8-47fe-a794-884cd2fefb2f",
   "metadata": {},
   "outputs": [],
   "source": [
    "final_data.drop(columns=['회원상태_y'],inplace=True)"
   ]
  },
  {
   "cell_type": "code",
   "execution_count": 414,
   "id": "2ea740a6-8bd6-4340-964a-97dd67caebc7",
   "metadata": {},
   "outputs": [
    {
     "data": {
      "text/html": [
       "<div>\n",
       "<style scoped>\n",
       "    .dataframe tbody tr th:only-of-type {\n",
       "        vertical-align: middle;\n",
       "    }\n",
       "\n",
       "    .dataframe tbody tr th {\n",
       "        vertical-align: top;\n",
       "    }\n",
       "\n",
       "    .dataframe thead th {\n",
       "        text-align: right;\n",
       "    }\n",
       "</style>\n",
       "<table border=\"1\" class=\"dataframe\">\n",
       "  <thead>\n",
       "    <tr style=\"text-align: right;\">\n",
       "      <th></th>\n",
       "      <th>회원번호</th>\n",
       "      <th>회원상태</th>\n",
       "      <th>구매수량</th>\n",
       "      <th>구매금액</th>\n",
       "      <th>주문일시</th>\n",
       "      <th>배송시작일</th>\n",
       "      <th>배송완료일</th>\n",
       "      <th>사용 적립금</th>\n",
       "      <th>사용 포인트 네이버</th>\n",
       "      <th>주문취소여부</th>\n",
       "      <th>...</th>\n",
       "      <th>결혼</th>\n",
       "      <th>구독여부</th>\n",
       "      <th>주소지</th>\n",
       "      <th>세부주소지</th>\n",
       "      <th>물품명</th>\n",
       "      <th>물품대분류</th>\n",
       "      <th>물품중분류</th>\n",
       "      <th>상품중량</th>\n",
       "      <th>식품/비식품</th>\n",
       "      <th>유기신선</th>\n",
       "    </tr>\n",
       "  </thead>\n",
       "  <tbody>\n",
       "    <tr>\n",
       "      <th>0</th>\n",
       "      <td>1032097472</td>\n",
       "      <td>정상회원</td>\n",
       "      <td>1.0</td>\n",
       "      <td>7083</td>\n",
       "      <td>2022-01-08</td>\n",
       "      <td>NaN</td>\n",
       "      <td>NaN</td>\n",
       "      <td>0</td>\n",
       "      <td>0</td>\n",
       "      <td>주문취소</td>\n",
       "      <td>...</td>\n",
       "      <td>기혼</td>\n",
       "      <td>NaN</td>\n",
       "      <td>경기도</td>\n",
       "      <td>화성시</td>\n",
       "      <td>유정란/친환경</td>\n",
       "      <td>알</td>\n",
       "      <td>논지엠오유정란</td>\n",
       "      <td>10알</td>\n",
       "      <td>식품</td>\n",
       "      <td>신선</td>\n",
       "    </tr>\n",
       "    <tr>\n",
       "      <th>1</th>\n",
       "      <td>1032097472</td>\n",
       "      <td>정상회원</td>\n",
       "      <td>1.0</td>\n",
       "      <td>29865</td>\n",
       "      <td>2022-01-08</td>\n",
       "      <td>2022-01-08</td>\n",
       "      <td>2022-01-08</td>\n",
       "      <td>0</td>\n",
       "      <td>0</td>\n",
       "      <td>NaN</td>\n",
       "      <td>...</td>\n",
       "      <td>기혼</td>\n",
       "      <td>NaN</td>\n",
       "      <td>경기도</td>\n",
       "      <td>화성시</td>\n",
       "      <td>칠분도미/유</td>\n",
       "      <td>멥쌀</td>\n",
       "      <td>멥쌀</td>\n",
       "      <td>2kg</td>\n",
       "      <td>기타</td>\n",
       "      <td>비식품</td>\n",
       "    </tr>\n",
       "    <tr>\n",
       "      <th>2</th>\n",
       "      <td>1032097472</td>\n",
       "      <td>정상회원</td>\n",
       "      <td>1.0</td>\n",
       "      <td>23164</td>\n",
       "      <td>2022-01-08</td>\n",
       "      <td>2022-01-08</td>\n",
       "      <td>2022-01-09</td>\n",
       "      <td>0</td>\n",
       "      <td>0</td>\n",
       "      <td>NaN</td>\n",
       "      <td>...</td>\n",
       "      <td>기혼</td>\n",
       "      <td>NaN</td>\n",
       "      <td>경기도</td>\n",
       "      <td>화성시</td>\n",
       "      <td>양념닭갈비</td>\n",
       "      <td>육가공</td>\n",
       "      <td>양념육</td>\n",
       "      <td>500g</td>\n",
       "      <td>식품</td>\n",
       "      <td>기타</td>\n",
       "    </tr>\n",
       "    <tr>\n",
       "      <th>3</th>\n",
       "      <td>369152832</td>\n",
       "      <td>정상회원</td>\n",
       "      <td>1.0</td>\n",
       "      <td>16655</td>\n",
       "      <td>2022-01-08</td>\n",
       "      <td>2022-01-08</td>\n",
       "      <td>2022-01-09</td>\n",
       "      <td>0</td>\n",
       "      <td>0</td>\n",
       "      <td>NaN</td>\n",
       "      <td>...</td>\n",
       "      <td>기혼</td>\n",
       "      <td>False</td>\n",
       "      <td>울산광역시</td>\n",
       "      <td>남구</td>\n",
       "      <td>볶음멸치/상</td>\n",
       "      <td>건어물</td>\n",
       "      <td>멸치류</td>\n",
       "      <td>300g</td>\n",
       "      <td>식품</td>\n",
       "      <td>기타</td>\n",
       "    </tr>\n",
       "    <tr>\n",
       "      <th>4</th>\n",
       "      <td>1032097472</td>\n",
       "      <td>정상회원</td>\n",
       "      <td>1.0</td>\n",
       "      <td>8423</td>\n",
       "      <td>2022-01-08</td>\n",
       "      <td>NaN</td>\n",
       "      <td>NaN</td>\n",
       "      <td>0</td>\n",
       "      <td>0</td>\n",
       "      <td>주문취소</td>\n",
       "      <td>...</td>\n",
       "      <td>기혼</td>\n",
       "      <td>NaN</td>\n",
       "      <td>경기도</td>\n",
       "      <td>화성시</td>\n",
       "      <td>채도라지</td>\n",
       "      <td>뿌리채소</td>\n",
       "      <td>도라지/손질</td>\n",
       "      <td>150g</td>\n",
       "      <td>식품</td>\n",
       "      <td>신선/유기농</td>\n",
       "    </tr>\n",
       "  </tbody>\n",
       "</table>\n",
       "<p>5 rows × 27 columns</p>\n",
       "</div>"
      ],
      "text/plain": [
       "         회원번호  회원상태  구매수량   구매금액        주문일시       배송시작일       배송완료일  사용 적립금  \\\n",
       "0  1032097472  정상회원   1.0   7083  2022-01-08         NaN         NaN       0   \n",
       "1  1032097472  정상회원   1.0  29865  2022-01-08  2022-01-08  2022-01-08       0   \n",
       "2  1032097472  정상회원   1.0  23164  2022-01-08  2022-01-08  2022-01-09       0   \n",
       "3   369152832  정상회원   1.0  16655  2022-01-08  2022-01-08  2022-01-09       0   \n",
       "4  1032097472  정상회원   1.0   8423  2022-01-08         NaN         NaN       0   \n",
       "\n",
       "   사용 포인트 네이버 주문취소여부  ...  결혼   구독여부    주소지 세부주소지      물품명  물품대분류    물품중분류  \\\n",
       "0           0   주문취소  ...  기혼    NaN    경기도   화성시  유정란/친환경      알  논지엠오유정란   \n",
       "1           0    NaN  ...  기혼    NaN    경기도   화성시   칠분도미/유     멥쌀       멥쌀   \n",
       "2           0    NaN  ...  기혼    NaN    경기도   화성시    양념닭갈비    육가공      양념육   \n",
       "3           0    NaN  ...  기혼  False  울산광역시    남구   볶음멸치/상    건어물      멸치류   \n",
       "4           0   주문취소  ...  기혼    NaN    경기도   화성시     채도라지   뿌리채소   도라지/손질   \n",
       "\n",
       "   상품중량 식품/비식품    유기신선  \n",
       "0   10알     식품      신선  \n",
       "1   2kg     기타     비식품  \n",
       "2  500g     식품      기타  \n",
       "3  300g     식품      기타  \n",
       "4  150g     식품  신선/유기농  \n",
       "\n",
       "[5 rows x 27 columns]"
      ]
     },
     "execution_count": 414,
     "metadata": {},
     "output_type": "execute_result"
    }
   ],
   "source": [
    "final_data.head()"
   ]
  },
  {
   "cell_type": "code",
   "execution_count": 415,
   "id": "9e93ee4b-6704-4b50-b378-c1dfb0b617b8",
   "metadata": {},
   "outputs": [
    {
     "data": {
      "text/plain": [
       "Index(['회원번호', '회원상태', '구매수량', '구매금액', '주문일시', '배송시작일', '배송완료일', '사용 적립금',\n",
       "       '사용 포인트 네이버', '주문취소여부', '주문시간', '제품번호', '배송기간', '오전오후', '성별', '나이',\n",
       "       '등록카드', '결혼', '구독여부', '주소지', '세부주소지', '물품명', '물품대분류', '물품중분류', '상품중량',\n",
       "       '식품/비식품', '유기신선'],\n",
       "      dtype='object')"
      ]
     },
     "execution_count": 415,
     "metadata": {},
     "output_type": "execute_result"
    }
   ],
   "source": [
    "final_data.columns"
   ]
  },
  {
   "cell_type": "code",
   "execution_count": 416,
   "id": "af4e8e47-99b0-4bcb-813e-e4a8e326f31b",
   "metadata": {},
   "outputs": [
    {
     "name": "stdout",
     "output_type": "stream",
     "text": [
      "CSV 파일이 C:/Users/campus4D045/Desktop/data/final_data.csv 경로에 저장되었습니다.\n"
     ]
    }
   ],
   "source": [
    "# CSV 파일로 추출\n",
    "file_path = 'C:/Users/campus4D045/Desktop/data/final_data.csv'\n",
    "final_data.to_csv(file_path, index=False, encoding='utf-8')\n",
    "\n",
    "# 확인 메시지 출력\n",
    "print(f\"CSV 파일이 {file_path} 경로에 저장되었습니다.\")"
   ]
  },
  {
   "cell_type": "code",
   "execution_count": 432,
   "id": "a301efca-f0ee-42c6-8400-8e3c92829dd5",
   "metadata": {},
   "outputs": [
    {
     "data": {
      "text/html": [
       "<div>\n",
       "<style scoped>\n",
       "    .dataframe tbody tr th:only-of-type {\n",
       "        vertical-align: middle;\n",
       "    }\n",
       "\n",
       "    .dataframe tbody tr th {\n",
       "        vertical-align: top;\n",
       "    }\n",
       "\n",
       "    .dataframe thead th {\n",
       "        text-align: right;\n",
       "    }\n",
       "</style>\n",
       "<table border=\"1\" class=\"dataframe\">\n",
       "  <thead>\n",
       "    <tr style=\"text-align: right;\">\n",
       "      <th></th>\n",
       "      <th>회원번호</th>\n",
       "      <th>회원상태</th>\n",
       "      <th>구매수량</th>\n",
       "      <th>구매금액</th>\n",
       "      <th>주문일시</th>\n",
       "      <th>배송시작일</th>\n",
       "      <th>배송완료일</th>\n",
       "      <th>사용 적립금</th>\n",
       "      <th>사용 포인트 네이버</th>\n",
       "      <th>주문취소여부</th>\n",
       "      <th>...</th>\n",
       "      <th>결혼</th>\n",
       "      <th>구독여부</th>\n",
       "      <th>주소지</th>\n",
       "      <th>세부주소지</th>\n",
       "      <th>물품명</th>\n",
       "      <th>물품대분류</th>\n",
       "      <th>물품중분류</th>\n",
       "      <th>상품중량</th>\n",
       "      <th>식품/비식품</th>\n",
       "      <th>유기신선</th>\n",
       "    </tr>\n",
       "  </thead>\n",
       "  <tbody>\n",
       "    <tr>\n",
       "      <th>0</th>\n",
       "      <td>1032097472</td>\n",
       "      <td>정상회원</td>\n",
       "      <td>1.0</td>\n",
       "      <td>7083</td>\n",
       "      <td>2022-01-08</td>\n",
       "      <td>NaN</td>\n",
       "      <td>NaN</td>\n",
       "      <td>0</td>\n",
       "      <td>0</td>\n",
       "      <td>주문취소</td>\n",
       "      <td>...</td>\n",
       "      <td>기혼</td>\n",
       "      <td>NaN</td>\n",
       "      <td>경기도</td>\n",
       "      <td>화성시</td>\n",
       "      <td>유정란/친환경</td>\n",
       "      <td>알</td>\n",
       "      <td>논지엠오유정란</td>\n",
       "      <td>10알</td>\n",
       "      <td>식품</td>\n",
       "      <td>신선</td>\n",
       "    </tr>\n",
       "    <tr>\n",
       "      <th>1</th>\n",
       "      <td>1032097472</td>\n",
       "      <td>정상회원</td>\n",
       "      <td>1.0</td>\n",
       "      <td>29865</td>\n",
       "      <td>2022-01-08</td>\n",
       "      <td>2022-01-08</td>\n",
       "      <td>2022-01-08</td>\n",
       "      <td>0</td>\n",
       "      <td>0</td>\n",
       "      <td>NaN</td>\n",
       "      <td>...</td>\n",
       "      <td>기혼</td>\n",
       "      <td>NaN</td>\n",
       "      <td>경기도</td>\n",
       "      <td>화성시</td>\n",
       "      <td>칠분도미/유</td>\n",
       "      <td>멥쌀</td>\n",
       "      <td>멥쌀</td>\n",
       "      <td>2kg</td>\n",
       "      <td>기타</td>\n",
       "      <td>비식품</td>\n",
       "    </tr>\n",
       "    <tr>\n",
       "      <th>2</th>\n",
       "      <td>1032097472</td>\n",
       "      <td>정상회원</td>\n",
       "      <td>1.0</td>\n",
       "      <td>23164</td>\n",
       "      <td>2022-01-08</td>\n",
       "      <td>2022-01-08</td>\n",
       "      <td>2022-01-09</td>\n",
       "      <td>0</td>\n",
       "      <td>0</td>\n",
       "      <td>NaN</td>\n",
       "      <td>...</td>\n",
       "      <td>기혼</td>\n",
       "      <td>NaN</td>\n",
       "      <td>경기도</td>\n",
       "      <td>화성시</td>\n",
       "      <td>양념닭갈비</td>\n",
       "      <td>육가공</td>\n",
       "      <td>양념육</td>\n",
       "      <td>500g</td>\n",
       "      <td>식품</td>\n",
       "      <td>기타</td>\n",
       "    </tr>\n",
       "    <tr>\n",
       "      <th>3</th>\n",
       "      <td>369152832</td>\n",
       "      <td>정상회원</td>\n",
       "      <td>1.0</td>\n",
       "      <td>16655</td>\n",
       "      <td>2022-01-08</td>\n",
       "      <td>2022-01-08</td>\n",
       "      <td>2022-01-09</td>\n",
       "      <td>0</td>\n",
       "      <td>0</td>\n",
       "      <td>NaN</td>\n",
       "      <td>...</td>\n",
       "      <td>기혼</td>\n",
       "      <td>False</td>\n",
       "      <td>울산광역시</td>\n",
       "      <td>남구</td>\n",
       "      <td>볶음멸치/상</td>\n",
       "      <td>건어물</td>\n",
       "      <td>멸치류</td>\n",
       "      <td>300g</td>\n",
       "      <td>식품</td>\n",
       "      <td>기타</td>\n",
       "    </tr>\n",
       "    <tr>\n",
       "      <th>4</th>\n",
       "      <td>1032097472</td>\n",
       "      <td>정상회원</td>\n",
       "      <td>1.0</td>\n",
       "      <td>8423</td>\n",
       "      <td>2022-01-08</td>\n",
       "      <td>NaN</td>\n",
       "      <td>NaN</td>\n",
       "      <td>0</td>\n",
       "      <td>0</td>\n",
       "      <td>주문취소</td>\n",
       "      <td>...</td>\n",
       "      <td>기혼</td>\n",
       "      <td>NaN</td>\n",
       "      <td>경기도</td>\n",
       "      <td>화성시</td>\n",
       "      <td>채도라지</td>\n",
       "      <td>뿌리채소</td>\n",
       "      <td>도라지/손질</td>\n",
       "      <td>150g</td>\n",
       "      <td>식품</td>\n",
       "      <td>신선/유기농</td>\n",
       "    </tr>\n",
       "  </tbody>\n",
       "</table>\n",
       "<p>5 rows × 27 columns</p>\n",
       "</div>"
      ],
      "text/plain": [
       "         회원번호  회원상태  구매수량   구매금액        주문일시       배송시작일       배송완료일  사용 적립금  \\\n",
       "0  1032097472  정상회원   1.0   7083  2022-01-08         NaN         NaN       0   \n",
       "1  1032097472  정상회원   1.0  29865  2022-01-08  2022-01-08  2022-01-08       0   \n",
       "2  1032097472  정상회원   1.0  23164  2022-01-08  2022-01-08  2022-01-09       0   \n",
       "3   369152832  정상회원   1.0  16655  2022-01-08  2022-01-08  2022-01-09       0   \n",
       "4  1032097472  정상회원   1.0   8423  2022-01-08         NaN         NaN       0   \n",
       "\n",
       "   사용 포인트 네이버 주문취소여부  ...  결혼   구독여부    주소지 세부주소지      물품명  물품대분류    물품중분류  \\\n",
       "0           0   주문취소  ...  기혼    NaN    경기도   화성시  유정란/친환경      알  논지엠오유정란   \n",
       "1           0    NaN  ...  기혼    NaN    경기도   화성시   칠분도미/유     멥쌀       멥쌀   \n",
       "2           0    NaN  ...  기혼    NaN    경기도   화성시    양념닭갈비    육가공      양념육   \n",
       "3           0    NaN  ...  기혼  False  울산광역시    남구   볶음멸치/상    건어물      멸치류   \n",
       "4           0   주문취소  ...  기혼    NaN    경기도   화성시     채도라지   뿌리채소   도라지/손질   \n",
       "\n",
       "   상품중량 식품/비식품    유기신선  \n",
       "0   10알     식품      신선  \n",
       "1   2kg     기타     비식품  \n",
       "2  500g     식품      기타  \n",
       "3  300g     식품      기타  \n",
       "4  150g     식품  신선/유기농  \n",
       "\n",
       "[5 rows x 27 columns]"
      ]
     },
     "execution_count": 432,
     "metadata": {},
     "output_type": "execute_result"
    }
   ],
   "source": [
    "final_data.head()"
   ]
  },
  {
   "cell_type": "markdown",
   "id": "d9caae06-bdc0-4ecd-92d6-cbfd8d253f38",
   "metadata": {
    "jp-MarkdownHeadingCollapsed": true
   },
   "source": [
    "# final_data"
   ]
  },
  {
   "cell_type": "code",
   "execution_count": 17,
   "id": "74a71b02-b620-418c-8814-0beefb5d1a10",
   "metadata": {},
   "outputs": [],
   "source": [
    "final_data = pd.read_csv('C:/Users/campus4D045/Desktop/data/final_data.csv')"
   ]
  },
  {
   "cell_type": "code",
   "execution_count": 29,
   "id": "b230e418-87a9-40f7-9e64-c1f0e85199d7",
   "metadata": {},
   "outputs": [
    {
     "data": {
      "text/html": [
       "<div>\n",
       "<style scoped>\n",
       "    .dataframe tbody tr th:only-of-type {\n",
       "        vertical-align: middle;\n",
       "    }\n",
       "\n",
       "    .dataframe tbody tr th {\n",
       "        vertical-align: top;\n",
       "    }\n",
       "\n",
       "    .dataframe thead th {\n",
       "        text-align: right;\n",
       "    }\n",
       "</style>\n",
       "<table border=\"1\" class=\"dataframe\">\n",
       "  <thead>\n",
       "    <tr style=\"text-align: right;\">\n",
       "      <th></th>\n",
       "      <th>회원번호</th>\n",
       "      <th>회원상태</th>\n",
       "      <th>구매수량</th>\n",
       "      <th>구매금액</th>\n",
       "      <th>주문일시</th>\n",
       "      <th>배송시작일</th>\n",
       "      <th>배송완료일</th>\n",
       "      <th>사용 적립금</th>\n",
       "      <th>사용 포인트 네이버</th>\n",
       "      <th>주문취소여부</th>\n",
       "      <th>...</th>\n",
       "      <th>구독여부</th>\n",
       "      <th>주소지</th>\n",
       "      <th>세부주소지</th>\n",
       "      <th>물품명</th>\n",
       "      <th>물품대분류</th>\n",
       "      <th>물품중분류</th>\n",
       "      <th>식품/비식품</th>\n",
       "      <th>유기신선</th>\n",
       "      <th>주문요일</th>\n",
       "      <th>연령대</th>\n",
       "    </tr>\n",
       "  </thead>\n",
       "  <tbody>\n",
       "    <tr>\n",
       "      <th>0</th>\n",
       "      <td>1032097472</td>\n",
       "      <td>정상회원</td>\n",
       "      <td>1.0</td>\n",
       "      <td>7083</td>\n",
       "      <td>2022-01-08</td>\n",
       "      <td>NaN</td>\n",
       "      <td>NaN</td>\n",
       "      <td>0</td>\n",
       "      <td>0</td>\n",
       "      <td>주문취소</td>\n",
       "      <td>...</td>\n",
       "      <td>NaN</td>\n",
       "      <td>경기도</td>\n",
       "      <td>화성시</td>\n",
       "      <td>유정란/친환경</td>\n",
       "      <td>알</td>\n",
       "      <td>논지엠오유정란</td>\n",
       "      <td>식품</td>\n",
       "      <td>신선</td>\n",
       "      <td>토요일</td>\n",
       "      <td>30대</td>\n",
       "    </tr>\n",
       "    <tr>\n",
       "      <th>1</th>\n",
       "      <td>1032097472</td>\n",
       "      <td>정상회원</td>\n",
       "      <td>1.0</td>\n",
       "      <td>29865</td>\n",
       "      <td>2022-01-08</td>\n",
       "      <td>2022-01-08</td>\n",
       "      <td>2022-01-08</td>\n",
       "      <td>0</td>\n",
       "      <td>0</td>\n",
       "      <td>NaN</td>\n",
       "      <td>...</td>\n",
       "      <td>NaN</td>\n",
       "      <td>경기도</td>\n",
       "      <td>화성시</td>\n",
       "      <td>칠분도미/유</td>\n",
       "      <td>멥쌀</td>\n",
       "      <td>멥쌀</td>\n",
       "      <td>기타</td>\n",
       "      <td>비식품</td>\n",
       "      <td>토요일</td>\n",
       "      <td>30대</td>\n",
       "    </tr>\n",
       "    <tr>\n",
       "      <th>2</th>\n",
       "      <td>1032097472</td>\n",
       "      <td>정상회원</td>\n",
       "      <td>1.0</td>\n",
       "      <td>23164</td>\n",
       "      <td>2022-01-08</td>\n",
       "      <td>2022-01-08</td>\n",
       "      <td>2022-01-09</td>\n",
       "      <td>0</td>\n",
       "      <td>0</td>\n",
       "      <td>NaN</td>\n",
       "      <td>...</td>\n",
       "      <td>NaN</td>\n",
       "      <td>경기도</td>\n",
       "      <td>화성시</td>\n",
       "      <td>양념닭갈비</td>\n",
       "      <td>육가공</td>\n",
       "      <td>양념육</td>\n",
       "      <td>식품</td>\n",
       "      <td>기타</td>\n",
       "      <td>토요일</td>\n",
       "      <td>30대</td>\n",
       "    </tr>\n",
       "    <tr>\n",
       "      <th>3</th>\n",
       "      <td>369152832</td>\n",
       "      <td>정상회원</td>\n",
       "      <td>1.0</td>\n",
       "      <td>16655</td>\n",
       "      <td>2022-01-08</td>\n",
       "      <td>2022-01-08</td>\n",
       "      <td>2022-01-09</td>\n",
       "      <td>0</td>\n",
       "      <td>0</td>\n",
       "      <td>NaN</td>\n",
       "      <td>...</td>\n",
       "      <td>False</td>\n",
       "      <td>울산광역시</td>\n",
       "      <td>남구</td>\n",
       "      <td>볶음멸치/상</td>\n",
       "      <td>건어물</td>\n",
       "      <td>멸치류</td>\n",
       "      <td>식품</td>\n",
       "      <td>기타</td>\n",
       "      <td>토요일</td>\n",
       "      <td>40대</td>\n",
       "    </tr>\n",
       "    <tr>\n",
       "      <th>4</th>\n",
       "      <td>1032097472</td>\n",
       "      <td>정상회원</td>\n",
       "      <td>1.0</td>\n",
       "      <td>8423</td>\n",
       "      <td>2022-01-08</td>\n",
       "      <td>NaN</td>\n",
       "      <td>NaN</td>\n",
       "      <td>0</td>\n",
       "      <td>0</td>\n",
       "      <td>주문취소</td>\n",
       "      <td>...</td>\n",
       "      <td>NaN</td>\n",
       "      <td>경기도</td>\n",
       "      <td>화성시</td>\n",
       "      <td>채도라지</td>\n",
       "      <td>뿌리채소</td>\n",
       "      <td>도라지/손질</td>\n",
       "      <td>식품</td>\n",
       "      <td>신선/유기농</td>\n",
       "      <td>토요일</td>\n",
       "      <td>30대</td>\n",
       "    </tr>\n",
       "  </tbody>\n",
       "</table>\n",
       "<p>5 rows × 28 columns</p>\n",
       "</div>"
      ],
      "text/plain": [
       "         회원번호  회원상태  구매수량   구매금액       주문일시       배송시작일       배송완료일  사용 적립금  \\\n",
       "0  1032097472  정상회원   1.0   7083 2022-01-08         NaN         NaN       0   \n",
       "1  1032097472  정상회원   1.0  29865 2022-01-08  2022-01-08  2022-01-08       0   \n",
       "2  1032097472  정상회원   1.0  23164 2022-01-08  2022-01-08  2022-01-09       0   \n",
       "3   369152832  정상회원   1.0  16655 2022-01-08  2022-01-08  2022-01-09       0   \n",
       "4  1032097472  정상회원   1.0   8423 2022-01-08         NaN         NaN       0   \n",
       "\n",
       "   사용 포인트 네이버 주문취소여부  ...   구독여부    주소지 세부주소지      물품명 물품대분류    물품중분류 식품/비식품  \\\n",
       "0           0   주문취소  ...    NaN    경기도   화성시  유정란/친환경     알  논지엠오유정란     식품   \n",
       "1           0    NaN  ...    NaN    경기도   화성시   칠분도미/유    멥쌀       멥쌀     기타   \n",
       "2           0    NaN  ...    NaN    경기도   화성시    양념닭갈비   육가공      양념육     식품   \n",
       "3           0    NaN  ...  False  울산광역시    남구   볶음멸치/상   건어물      멸치류     식품   \n",
       "4           0   주문취소  ...    NaN    경기도   화성시     채도라지  뿌리채소   도라지/손질     식품   \n",
       "\n",
       "     유기신선 주문요일  연령대  \n",
       "0      신선  토요일  30대  \n",
       "1     비식품  토요일  30대  \n",
       "2      기타  토요일  30대  \n",
       "3      기타  토요일  40대  \n",
       "4  신선/유기농  토요일  30대  \n",
       "\n",
       "[5 rows x 28 columns]"
      ]
     },
     "execution_count": 29,
     "metadata": {},
     "output_type": "execute_result"
    }
   ],
   "source": [
    "final_data.head()"
   ]
  },
  {
   "cell_type": "code",
   "execution_count": 26,
   "id": "adb51c5b-d254-4f76-8597-85a9cb120b93",
   "metadata": {},
   "outputs": [
    {
     "name": "stdout",
     "output_type": "stream",
     "text": [
      "<class 'pandas.core.frame.DataFrame'>\n",
      "RangeIndex: 663794 entries, 0 to 663793\n",
      "Data columns (total 28 columns):\n",
      " #   Column      Non-Null Count   Dtype         \n",
      "---  ------      --------------   -----         \n",
      " 0   회원번호        663794 non-null  int64         \n",
      " 1   회원상태_x      663794 non-null  object        \n",
      " 2   구매수량        663794 non-null  float64       \n",
      " 3   구매금액        663794 non-null  int64         \n",
      " 4   주문일시        663794 non-null  datetime64[ns]\n",
      " 5   배송시작일       633336 non-null  object        \n",
      " 6   배송완료일       633336 non-null  object        \n",
      " 7   사용 적립금      663794 non-null  int64         \n",
      " 8   사용 포인트 네이버  663794 non-null  int64         \n",
      " 9   주문취소여부      30458 non-null   object        \n",
      " 10  주문시간        663794 non-null  object        \n",
      " 11  제품번호        663794 non-null  object        \n",
      " 12  배송기간        633336 non-null  object        \n",
      " 13  오전오후        663794 non-null  object        \n",
      " 14  성별          663047 non-null  object        \n",
      " 15  나이          663047 non-null  float64       \n",
      " 16  등록카드        663047 non-null  object        \n",
      " 17  결혼          663047 non-null  object        \n",
      " 18  구독여부        544277 non-null  object        \n",
      " 19  주소지         663047 non-null  object        \n",
      " 20  세부주소지       663047 non-null  object        \n",
      " 21  물품명         663794 non-null  object        \n",
      " 22  물품대분류       663794 non-null  object        \n",
      " 23  물품중분류       663794 non-null  object        \n",
      " 24  식품/비식품      663794 non-null  object        \n",
      " 25  유기신선        663794 non-null  object        \n",
      " 26  주문요일        663794 non-null  object        \n",
      " 27  연령대         663794 non-null  object        \n",
      "dtypes: datetime64[ns](1), float64(2), int64(4), object(21)\n",
      "memory usage: 141.8+ MB\n"
     ]
    }
   ],
   "source": [
    "final_data.info()"
   ]
  },
  {
   "cell_type": "code",
   "execution_count": 20,
   "id": "b563c061-01be-421d-857a-ff16cf61e4ac",
   "metadata": {},
   "outputs": [],
   "source": [
    "# '주문일시' 열을 datetime 형식으로 변환\n",
    "final_data['주문일시'] = pd.to_datetime(final_data['주문일시'])"
   ]
  },
  {
   "cell_type": "code",
   "execution_count": 21,
   "id": "85ddc23e-cbf7-450f-9be5-7a9f0aa19c84",
   "metadata": {},
   "outputs": [],
   "source": [
    "# '주문요일' 열 생성\n",
    "final_data['주문요일'] = final_data['주문일시'].dt.day_name(locale='ko_KR')"
   ]
  },
  {
   "cell_type": "code",
   "execution_count": 22,
   "id": "80de82cb-c8be-4319-a51d-543d70c66411",
   "metadata": {},
   "outputs": [],
   "source": [
    "# '연령대' 열 생성\n",
    "def categorize_age(age):\n",
    "    if 10 <= age < 20:\n",
    "        return '10대'\n",
    "    elif 20 <= age < 30:\n",
    "        return '20대'\n",
    "    elif 30 <= age < 40:\n",
    "        return '30대'\n",
    "    elif 40 <= age < 50:\n",
    "        return '40대'\n",
    "    elif 50 <= age < 60:\n",
    "        return '50대'\n",
    "    elif 60 <= age < 70:\n",
    "        return '60대'\n",
    "    elif 70 <= age < 80:\n",
    "        return '70대'\n",
    "    else:\n",
    "        return '80대'\n",
    "\n",
    "final_data['연령대'] = final_data['나이'].apply(categorize_age)"
   ]
  },
  {
   "cell_type": "markdown",
   "id": "17d79667-dae3-4501-a218-129ac2d7e1ba",
   "metadata": {
    "jp-MarkdownHeadingCollapsed": true
   },
   "source": [
    "# 구독여부"
   ]
  },
  {
   "cell_type": "code",
   "execution_count": 429,
   "id": "fe4ea639-cf2b-424e-9b89-ee5f2f3f9b4e",
   "metadata": {},
   "outputs": [
    {
     "name": "stdout",
     "output_type": "stream",
     "text": [
      "t-통계량: 1.0994094097729306\n",
      "p-값: 0.27159004206545934\n"
     ]
    }
   ],
   "source": [
    "# 결혼 여부에 따른 그룹 나누기\n",
    "married = final_data[final_data['결혼'] == '기혼']['구매수량']\n",
    "single = final_data[final_data['결혼'] == '미혼']['구매수량']\n",
    "\n",
    "# 두 샘플 간의 t-test 수행 (분산이 동일하다고 가정)\n",
    "t_statistic, p_value = stats.ttest_ind(married, single, equal_var = False)\n",
    "\n",
    "print(\"t-통계량:\", t_statistic)\n",
    "print(\"p-값:\", p_value)"
   ]
  },
  {
   "cell_type": "code",
   "execution_count": 425,
   "id": "93915999-fa18-48fe-a4a2-4b24174f8bcc",
   "metadata": {},
   "outputs": [
    {
     "name": "stdout",
     "output_type": "stream",
     "text": [
      "Bartlett's Test\n",
      "Statistic: 539.1376147407799\n",
      "p-value: 2.9043093761999017e-119\n"
     ]
    }
   ],
   "source": [
    "# 등분산성\n",
    "bartlett_test = stats.bartlett(married, single)\n",
    "print('Bartlett\\'s Test')\n",
    "print('Statistic:', bartlett_test.statistic)\n",
    "print('p-value:', bartlett_test.pvalue)"
   ]
  },
  {
   "cell_type": "code",
   "execution_count": 8,
   "id": "5559c6d9-5499-4281-bf99-b34be4314756",
   "metadata": {},
   "outputs": [
    {
     "name": "stdout",
     "output_type": "stream",
     "text": [
      "회원상태\n",
      "정상회원     98.724083\n",
      "탈퇴        1.244019\n",
      "탈퇴처리중     0.015949\n",
      "NaN       0.007974\n",
      "탈퇴신청      0.007974\n",
      "Name: count, dtype: float64\n"
     ]
    }
   ],
   "source": [
    "# 구독여부의 비율 계산\n",
    "subscription_counts = member_data['회원상태'].value_counts(dropna=False)\n",
    "total_count = len(member_data['회원상태'])\n",
    "\n",
    "# 비율 계산\n",
    "subscription_ratios = subscription_counts / total_count * 100\n",
    "\n",
    "# 비율 출력\n",
    "print(subscription_ratios)"
   ]
  },
  {
   "cell_type": "code",
   "execution_count": 10,
   "id": "62ac1ce4-ca13-4ed2-918b-51848599dd04",
   "metadata": {},
   "outputs": [
    {
     "name": "stdout",
     "output_type": "stream",
     "text": [
      "구독여부\n",
      "False    442242\n",
      "NaN      117416\n",
      "True     104136\n",
      "Name: count, dtype: int64\n"
     ]
    }
   ],
   "source": [
    "# '구독여부' 열의 각 값의 빈도 계산\n",
    "value_counts = final_data['구독여부'].value_counts(dropna=False)\n",
    "\n",
    "print(value_counts)"
   ]
  },
  {
   "cell_type": "code",
   "execution_count": 8,
   "id": "b27e82a7-0bc5-4349-a211-7cc19b908823",
   "metadata": {},
   "outputs": [],
   "source": [
    "# '물품대분류' 열에 '냉동'이 포함되고 '주문취소여부'가 NaN인 경우 '구독여부'를 True로 변경\n",
    "condition = (final_data['물품대분류'].str.contains('냉동')) & (final_data['주문취소여부'].isna())\n",
    "final_data.loc[condition, '구독여부'] = True"
   ]
  },
  {
   "cell_type": "code",
   "execution_count": 6,
   "id": "c952155d-26c6-44ff-96a2-176d76103978",
   "metadata": {},
   "outputs": [
    {
     "data": {
      "text/plain": [
       "회원상태\n",
       "정상회원     12380\n",
       "탈퇴         156\n",
       "탈퇴처리중        2\n",
       "탈퇴신청         1\n",
       "Name: count, dtype: int64"
      ]
     },
     "execution_count": 6,
     "metadata": {},
     "output_type": "execute_result"
    }
   ],
   "source": [
    "member_data['회원상태'].value_counts()"
   ]
  },
  {
   "cell_type": "markdown",
   "id": "db3f4951-c1d7-4fe8-b2c7-754fe0cd6927",
   "metadata": {
    "jp-MarkdownHeadingCollapsed": true
   },
   "source": [
    "# .."
   ]
  },
  {
   "cell_type": "code",
   "execution_count": 23,
   "id": "2dd6d385-ebf1-45c2-b7a0-13c52817cab2",
   "metadata": {},
   "outputs": [],
   "source": [
    "final_data = final_data.drop('상품중량', axis=1)"
   ]
  },
  {
   "cell_type": "code",
   "execution_count": 25,
   "id": "60c46ef7-b99d-4449-b285-a136b7de35cb",
   "metadata": {},
   "outputs": [],
   "source": [
    "final_data = final_data.drop('회원상태_y', axis=1)"
   ]
  },
  {
   "cell_type": "code",
   "execution_count": 31,
   "id": "fc2438ad-6740-40b5-becb-90296de4c033",
   "metadata": {},
   "outputs": [
    {
     "name": "stdout",
     "output_type": "stream",
     "text": [
      "CSV 파일이 C:/Users/campus4D045/Desktop/data/final_data.csv 경로에 저장되었습니다.\n"
     ]
    }
   ],
   "source": [
    "# CSV 파일로 추출\n",
    "file_path = 'C:/Users/campus4D045/Desktop/data/final_data.csv'\n",
    "final_data.to_csv(file_path, index=False, encoding='utf-8')\n",
    "\n",
    "# 확인 메시지 출력\n",
    "print(f\"CSV 파일이 {file_path} 경로에 저장되었습니다.\")"
   ]
  },
  {
   "cell_type": "code",
   "execution_count": 32,
   "id": "3205fb53-5d61-4503-be2f-5d4c02ea4e96",
   "metadata": {},
   "outputs": [
    {
     "name": "stdout",
     "output_type": "stream",
     "text": [
      "<class 'pandas.core.frame.DataFrame'>\n",
      "RangeIndex: 663794 entries, 0 to 663793\n",
      "Data columns (total 28 columns):\n",
      " #   Column      Non-Null Count   Dtype  \n",
      "---  ------      --------------   -----  \n",
      " 0   회원번호        663794 non-null  int64  \n",
      " 1   회원상태        663794 non-null  object \n",
      " 2   구매수량        663794 non-null  float64\n",
      " 3   구매금액        663794 non-null  int64  \n",
      " 4   주문일시        663794 non-null  object \n",
      " 5   배송시작일       633336 non-null  object \n",
      " 6   배송완료일       633336 non-null  object \n",
      " 7   사용 적립금      663794 non-null  int64  \n",
      " 8   사용 포인트 네이버  663794 non-null  int64  \n",
      " 9   주문취소여부      30458 non-null   object \n",
      " 10  주문시간        663794 non-null  object \n",
      " 11  제품번호        663794 non-null  object \n",
      " 12  배송기간        633336 non-null  object \n",
      " 13  오전오후        663794 non-null  object \n",
      " 14  성별          663047 non-null  object \n",
      " 15  나이          663047 non-null  float64\n",
      " 16  등록카드        663047 non-null  object \n",
      " 17  결혼          663047 non-null  object \n",
      " 18  구독여부        544277 non-null  object \n",
      " 19  주소지         663047 non-null  object \n",
      " 20  세부주소지       663047 non-null  object \n",
      " 21  물품명         663794 non-null  object \n",
      " 22  물품대분류       663794 non-null  object \n",
      " 23  물품중분류       663794 non-null  object \n",
      " 24  식품/비식품      663794 non-null  object \n",
      " 25  유기신선        663794 non-null  object \n",
      " 26  주문요일        663794 non-null  object \n",
      " 27  연령대         663794 non-null  object \n",
      "dtypes: float64(2), int64(4), object(22)\n",
      "memory usage: 141.8+ MB\n"
     ]
    }
   ],
   "source": [
    "final_data = pd.read_csv('C:/Users/campus4D045/Desktop/data/final_data.csv')\n",
    "final_data.info()"
   ]
  },
  {
   "cell_type": "code",
   "execution_count": 33,
   "id": "121ce6cf-98e2-4432-919e-afa2b4b4a9f6",
   "metadata": {},
   "outputs": [
    {
     "data": {
      "text/html": [
       "<div>\n",
       "<style scoped>\n",
       "    .dataframe tbody tr th:only-of-type {\n",
       "        vertical-align: middle;\n",
       "    }\n",
       "\n",
       "    .dataframe tbody tr th {\n",
       "        vertical-align: top;\n",
       "    }\n",
       "\n",
       "    .dataframe thead th {\n",
       "        text-align: right;\n",
       "    }\n",
       "</style>\n",
       "<table border=\"1\" class=\"dataframe\">\n",
       "  <thead>\n",
       "    <tr style=\"text-align: right;\">\n",
       "      <th></th>\n",
       "      <th>회원번호</th>\n",
       "      <th>회원상태</th>\n",
       "      <th>구매수량</th>\n",
       "      <th>구매금액</th>\n",
       "      <th>주문일시</th>\n",
       "      <th>배송시작일</th>\n",
       "      <th>배송완료일</th>\n",
       "      <th>사용 적립금</th>\n",
       "      <th>사용 포인트 네이버</th>\n",
       "      <th>주문취소여부</th>\n",
       "      <th>...</th>\n",
       "      <th>구독여부</th>\n",
       "      <th>주소지</th>\n",
       "      <th>세부주소지</th>\n",
       "      <th>물품명</th>\n",
       "      <th>물품대분류</th>\n",
       "      <th>물품중분류</th>\n",
       "      <th>식품/비식품</th>\n",
       "      <th>유기신선</th>\n",
       "      <th>주문요일</th>\n",
       "      <th>연령대</th>\n",
       "    </tr>\n",
       "  </thead>\n",
       "  <tbody>\n",
       "    <tr>\n",
       "      <th>0</th>\n",
       "      <td>1032097472</td>\n",
       "      <td>정상회원</td>\n",
       "      <td>1.0</td>\n",
       "      <td>7083</td>\n",
       "      <td>2022-01-08</td>\n",
       "      <td>NaN</td>\n",
       "      <td>NaN</td>\n",
       "      <td>0</td>\n",
       "      <td>0</td>\n",
       "      <td>주문취소</td>\n",
       "      <td>...</td>\n",
       "      <td>NaN</td>\n",
       "      <td>경기도</td>\n",
       "      <td>화성시</td>\n",
       "      <td>유정란/친환경</td>\n",
       "      <td>알</td>\n",
       "      <td>논지엠오유정란</td>\n",
       "      <td>식품</td>\n",
       "      <td>신선</td>\n",
       "      <td>토요일</td>\n",
       "      <td>30대</td>\n",
       "    </tr>\n",
       "    <tr>\n",
       "      <th>1</th>\n",
       "      <td>1032097472</td>\n",
       "      <td>정상회원</td>\n",
       "      <td>1.0</td>\n",
       "      <td>29865</td>\n",
       "      <td>2022-01-08</td>\n",
       "      <td>2022-01-08</td>\n",
       "      <td>2022-01-08</td>\n",
       "      <td>0</td>\n",
       "      <td>0</td>\n",
       "      <td>NaN</td>\n",
       "      <td>...</td>\n",
       "      <td>NaN</td>\n",
       "      <td>경기도</td>\n",
       "      <td>화성시</td>\n",
       "      <td>칠분도미/유</td>\n",
       "      <td>멥쌀</td>\n",
       "      <td>멥쌀</td>\n",
       "      <td>기타</td>\n",
       "      <td>비식품</td>\n",
       "      <td>토요일</td>\n",
       "      <td>30대</td>\n",
       "    </tr>\n",
       "    <tr>\n",
       "      <th>2</th>\n",
       "      <td>1032097472</td>\n",
       "      <td>정상회원</td>\n",
       "      <td>1.0</td>\n",
       "      <td>23164</td>\n",
       "      <td>2022-01-08</td>\n",
       "      <td>2022-01-08</td>\n",
       "      <td>2022-01-09</td>\n",
       "      <td>0</td>\n",
       "      <td>0</td>\n",
       "      <td>NaN</td>\n",
       "      <td>...</td>\n",
       "      <td>NaN</td>\n",
       "      <td>경기도</td>\n",
       "      <td>화성시</td>\n",
       "      <td>양념닭갈비</td>\n",
       "      <td>육가공</td>\n",
       "      <td>양념육</td>\n",
       "      <td>식품</td>\n",
       "      <td>기타</td>\n",
       "      <td>토요일</td>\n",
       "      <td>30대</td>\n",
       "    </tr>\n",
       "    <tr>\n",
       "      <th>3</th>\n",
       "      <td>369152832</td>\n",
       "      <td>정상회원</td>\n",
       "      <td>1.0</td>\n",
       "      <td>16655</td>\n",
       "      <td>2022-01-08</td>\n",
       "      <td>2022-01-08</td>\n",
       "      <td>2022-01-09</td>\n",
       "      <td>0</td>\n",
       "      <td>0</td>\n",
       "      <td>NaN</td>\n",
       "      <td>...</td>\n",
       "      <td>False</td>\n",
       "      <td>울산광역시</td>\n",
       "      <td>남구</td>\n",
       "      <td>볶음멸치/상</td>\n",
       "      <td>건어물</td>\n",
       "      <td>멸치류</td>\n",
       "      <td>식품</td>\n",
       "      <td>기타</td>\n",
       "      <td>토요일</td>\n",
       "      <td>40대</td>\n",
       "    </tr>\n",
       "    <tr>\n",
       "      <th>4</th>\n",
       "      <td>1032097472</td>\n",
       "      <td>정상회원</td>\n",
       "      <td>1.0</td>\n",
       "      <td>8423</td>\n",
       "      <td>2022-01-08</td>\n",
       "      <td>NaN</td>\n",
       "      <td>NaN</td>\n",
       "      <td>0</td>\n",
       "      <td>0</td>\n",
       "      <td>주문취소</td>\n",
       "      <td>...</td>\n",
       "      <td>NaN</td>\n",
       "      <td>경기도</td>\n",
       "      <td>화성시</td>\n",
       "      <td>채도라지</td>\n",
       "      <td>뿌리채소</td>\n",
       "      <td>도라지/손질</td>\n",
       "      <td>식품</td>\n",
       "      <td>신선/유기농</td>\n",
       "      <td>토요일</td>\n",
       "      <td>30대</td>\n",
       "    </tr>\n",
       "  </tbody>\n",
       "</table>\n",
       "<p>5 rows × 28 columns</p>\n",
       "</div>"
      ],
      "text/plain": [
       "         회원번호  회원상태  구매수량   구매금액        주문일시       배송시작일       배송완료일  사용 적립금  \\\n",
       "0  1032097472  정상회원   1.0   7083  2022-01-08         NaN         NaN       0   \n",
       "1  1032097472  정상회원   1.0  29865  2022-01-08  2022-01-08  2022-01-08       0   \n",
       "2  1032097472  정상회원   1.0  23164  2022-01-08  2022-01-08  2022-01-09       0   \n",
       "3   369152832  정상회원   1.0  16655  2022-01-08  2022-01-08  2022-01-09       0   \n",
       "4  1032097472  정상회원   1.0   8423  2022-01-08         NaN         NaN       0   \n",
       "\n",
       "   사용 포인트 네이버 주문취소여부  ...   구독여부    주소지 세부주소지      물품명 물품대분류    물품중분류 식품/비식품  \\\n",
       "0           0   주문취소  ...    NaN    경기도   화성시  유정란/친환경     알  논지엠오유정란     식품   \n",
       "1           0    NaN  ...    NaN    경기도   화성시   칠분도미/유    멥쌀       멥쌀     기타   \n",
       "2           0    NaN  ...    NaN    경기도   화성시    양념닭갈비   육가공      양념육     식품   \n",
       "3           0    NaN  ...  False  울산광역시    남구   볶음멸치/상   건어물      멸치류     식품   \n",
       "4           0   주문취소  ...    NaN    경기도   화성시     채도라지  뿌리채소   도라지/손질     식품   \n",
       "\n",
       "     유기신선 주문요일  연령대  \n",
       "0      신선  토요일  30대  \n",
       "1     비식품  토요일  30대  \n",
       "2      기타  토요일  30대  \n",
       "3      기타  토요일  40대  \n",
       "4  신선/유기농  토요일  30대  \n",
       "\n",
       "[5 rows x 28 columns]"
      ]
     },
     "execution_count": 33,
     "metadata": {},
     "output_type": "execute_result"
    }
   ],
   "source": [
    "final_data.head()"
   ]
  },
  {
   "cell_type": "code",
   "execution_count": null,
   "id": "f7b8312e-3546-4977-bf38-5ec62328c2a6",
   "metadata": {},
   "outputs": [],
   "source": []
  }
 ],
 "metadata": {
  "kernelspec": {
   "display_name": "Python 3 (ipykernel)",
   "language": "python",
   "name": "python3"
  },
  "language_info": {
   "codemirror_mode": {
    "name": "ipython",
    "version": 3
   },
   "file_extension": ".py",
   "mimetype": "text/x-python",
   "name": "python",
   "nbconvert_exporter": "python",
   "pygments_lexer": "ipython3",
   "version": "3.11.7"
  }
 },
 "nbformat": 4,
 "nbformat_minor": 5
}
