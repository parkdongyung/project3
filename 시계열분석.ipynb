{
 "cells": [
  {
   "cell_type": "code",
   "execution_count": 3,
   "id": "945b5c0c-1760-444f-abe1-cafa6288d6e7",
   "metadata": {},
   "outputs": [
    {
     "ename": "ModuleNotFoundError",
     "evalue": "No module named 'pmdarima'",
     "output_type": "error",
     "traceback": [
      "\u001b[1;31m---------------------------------------------------------------------------\u001b[0m",
      "\u001b[1;31mModuleNotFoundError\u001b[0m                       Traceback (most recent call last)",
      "Cell \u001b[1;32mIn[3], line 6\u001b[0m\n\u001b[0;32m      3\u001b[0m \u001b[38;5;28;01mimport\u001b[39;00m \u001b[38;5;21;01mmatplotlib\u001b[39;00m\u001b[38;5;21;01m.\u001b[39;00m\u001b[38;5;21;01mpyplot\u001b[39;00m \u001b[38;5;28;01mas\u001b[39;00m \u001b[38;5;21;01mplt\u001b[39;00m\n\u001b[0;32m      5\u001b[0m \u001b[38;5;28;01mimport\u001b[39;00m \u001b[38;5;21;01mseaborn\u001b[39;00m \u001b[38;5;28;01mas\u001b[39;00m \u001b[38;5;21;01msns\u001b[39;00m\n\u001b[1;32m----> 6\u001b[0m \u001b[38;5;28;01mimport\u001b[39;00m \u001b[38;5;21;01mpmdarima\u001b[39;00m \u001b[38;5;28;01mas\u001b[39;00m \u001b[38;5;21;01mpm\u001b[39;00m\n",
      "\u001b[1;31mModuleNotFoundError\u001b[0m: No module named 'pmdarima'"
     ]
    }
   ],
   "source": [
    "import pandas as pd\n",
    "import numpy as np\n",
    "import matplotlib.pyplot as plt\n",
    "\n",
    "import seaborn as sns\n",
    "import pmdarima as pm"
   ]
  },
  {
   "cell_type": "code",
   "execution_count": 4,
   "id": "f18bdf8c-ebbb-47d9-8678-3f15ff8f5961",
   "metadata": {},
   "outputs": [],
   "source": [
    "import warnings\n",
    "# 한글설치\n",
    "plt.rc('font', family = 'Malgun Gothic')\n",
    "\n",
    "# 음수표시\n",
    "plt.rc('axes', unicode_minus = False)\n",
    "\n",
    "# 실행결과 경고메세지 출력제외\n",
    "warnings.filterwarnings('ignore')"
   ]
  },
  {
   "cell_type": "code",
   "execution_count": null,
   "id": "34ff9b84-4161-4a2b-ab65-517eab6f98f1",
   "metadata": {},
   "outputs": [],
   "source": [
    "from scipy import stats\n",
    "from statsmodels.stats.proportion import proportions_ztest"
   ]
  },
  {
   "cell_type": "code",
   "execution_count": null,
   "id": "0e7ef44c-7b7f-4283-addc-b7c739b4e281",
   "metadata": {},
   "outputs": [],
   "source": [
    "df['주문일시'] = pd.to_datetime(df['주문일시'])"
   ]
  },
  {
   "cell_type": "code",
   "execution_count": null,
   "id": "141ea9e9-6dab-4cea-9739-b7ba8fb30166",
   "metadata": {},
   "outputs": [],
   "source": [
    "ar = pd.pivot_table(data=df_smp, index='주문일시', columns='물품중분류', values='구매수량', aggfunc='size')"
   ]
  },
  {
   "cell_type": "code",
   "execution_count": null,
   "id": "9e10301a-fef9-4442-99cc-4f8a2b383da0",
   "metadata": {},
   "outputs": [],
   "source": [
    "ar = ar.fillna(0)\n",
    "ar"
   ]
  },
  {
   "cell_type": "code",
   "execution_count": null,
   "id": "371be9c1-1b55-49c4-a61c-b6ac6df5a10c",
   "metadata": {},
   "outputs": [],
   "source": [
    "df_2weeks = ar.resample('2W').sum()"
   ]
  },
  {
   "cell_type": "code",
   "execution_count": null,
   "id": "c8dbedb7-03a0-413e-9bf4-3549f3f9f90b",
   "metadata": {},
   "outputs": [],
   "source": [
    "df_2weeks"
   ]
  },
  {
   "cell_type": "code",
   "execution_count": null,
   "id": "900ebde1-987e-469f-847b-64482d54ee5a",
   "metadata": {},
   "outputs": [],
   "source": [
    "s = pd.DataFrame(df_2weeks.sum()).transpose()"
   ]
  },
  {
   "cell_type": "code",
   "execution_count": null,
   "id": "be7ea74c-a59e-492a-80af-6d96fa54372a",
   "metadata": {},
   "outputs": [],
   "source": [
    "for i in s.columns:\n",
    "    if i == 0:\n",
    "        df_2weeks.drop()\n",
    "\n",
    "df_2weeks"
   ]
  },
  {
   "cell_type": "code",
   "execution_count": null,
   "id": "9ae794cf-ca8d-4af6-81d7-db47f2ca76eb",
   "metadata": {},
   "outputs": [],
   "source": [
    "import statsmodels.tsa.api as tsa\n",
    "from statsmodels.tsa.arima.model import ARIMA"
   ]
  },
  {
   "cell_type": "code",
   "execution_count": null,
   "id": "0a7d6c26-bb6a-4df9-9ec7-c95698c96ebe",
   "metadata": {},
   "outputs": [],
   "source": [
    "from pylab import rcParams"
   ]
  },
  {
   "cell_type": "markdown",
   "id": "e8f41d0c-057b-4dbd-9841-a54b26c51e4f",
   "metadata": {},
   "source": [
    "## 이건 예시(arima)"
   ]
  },
  {
   "cell_type": "markdown",
   "id": "fa01882d-9851-4c34-8cfb-c4fc7783aa9c",
   "metadata": {},
   "source": [
    "forcast = pd.DataFrame()\n",
    "model = ARIMA(df_2weeks['가공소금'], order=(0,1,1))\n",
    "model_fit = model.fit()\n",
    "forecast = model_fit.forecast(steps=4)\n",
    "forecast.columns = ['date', 'forecast_quantity']\n",
    "forecast['product'] = '가공소금'\n",
    "pd.DataFrame(forecast)"
   ]
  },
  {
   "cell_type": "code",
   "execution_count": null,
   "id": "b6982558-f483-4db0-bde2-be36b630254e",
   "metadata": {},
   "outputs": [],
   "source": [
    "df_or = df[df['유기신선'].str.contains('유기농')]"
   ]
  },
  {
   "cell_type": "code",
   "execution_count": null,
   "id": "89a3746c-a63f-4c13-98dd-ddb24f720b1f",
   "metadata": {},
   "outputs": [],
   "source": [
    "df_pm = df_or.groupby('물품중분류')['구매수량'].sum()\n",
    "df_pm"
   ]
  },
  {
   "cell_type": "code",
   "execution_count": null,
   "id": "3fffc42b-ba5c-45da-8c44-a447b3141468",
   "metadata": {},
   "outputs": [],
   "source": [
    "df_pm = df_pm.sort_values(by = '구매수량', ascending=False).head(30)"
   ]
  },
  {
   "cell_type": "code",
   "execution_count": null,
   "id": "ab7fb319-9577-4b34-af0c-a92ab1e465e8",
   "metadata": {},
   "outputs": [],
   "source": [
    "df_pm = df_pm['구매수량'].reset_index()\n",
    "df_pm"
   ]
  },
  {
   "cell_type": "markdown",
   "id": "bec4824b-2f76-4523-939f-3e8fc797e657",
   "metadata": {},
   "source": [
    "### 애호박 예시"
   ]
  },
  {
   "cell_type": "code",
   "execution_count": 2,
   "id": "0467af26-5b46-464a-be26-4344b5674a17",
   "metadata": {},
   "outputs": [
    {
     "ename": "NameError",
     "evalue": "name 'df_2weeks' is not defined",
     "output_type": "error",
     "traceback": [
      "\u001b[1;31m---------------------------------------------------------------------------\u001b[0m",
      "\u001b[1;31mNameError\u001b[0m                                 Traceback (most recent call last)",
      "Cell \u001b[1;32mIn[2], line 1\u001b[0m\n\u001b[1;32m----> 1\u001b[0m a \u001b[38;5;241m=\u001b[39m df_2weeks[\u001b[38;5;124m'\u001b[39m\u001b[38;5;124m애호박\u001b[39m\u001b[38;5;124m'\u001b[39m]\n",
      "\u001b[1;31mNameError\u001b[0m: name 'df_2weeks' is not defined"
     ]
    }
   ],
   "source": [
    "a = df_2weeks['애호박']"
   ]
  },
  {
   "cell_type": "code",
   "execution_count": null,
   "id": "3f0ae52e-9386-4a09-81bc-faf37edf7aa4",
   "metadata": {},
   "outputs": [],
   "source": [
    "from statsmodels.tsa.stattools import adfuller\n",
    "\n",
    "adfuller(a, autolag='AIC')"
   ]
  },
  {
   "cell_type": "markdown",
   "id": "05c673b2-0c93-4875-953c-9cbded8cf329",
   "metadata": {},
   "source": [
    "#### ADF 검정"
   ]
  },
  {
   "cell_type": "code",
   "execution_count": null,
   "id": "fa64d693-14e0-47ee-8bf9-38f222c7bf72",
   "metadata": {},
   "outputs": [],
   "source": [
    "def ADF_test(data):\n",
    "    results = adfuller(data, autolag='AIC')\n",
    "    s = results[0]\n",
    "    p = results[1]\n",
    "    cv = results[4]\n",
    "\n",
    "    print('-' * 30)\n",
    "    print('Augemented Dicket-Fuller Test')\n",
    "    print('H0 : 단위근이 존재한다(비정상 시계열)')\n",
    "    print('H1 : 단위근이 없다(정상 시계열)')\n",
    "    print('Critical Values : {}'.format(cv))\n",
    "    print('-'* 30)\n",
    "    print('Test Statistic : {:.4f}'.format(s))\n",
    "    print('p-value : {:.4f}'.format(p))\n",
    "    print('-'*30)"
   ]
  },
  {
   "cell_type": "code",
   "execution_count": null,
   "id": "fc263e58-e72a-4d89-842f-e8a42a7b117c",
   "metadata": {},
   "outputs": [],
   "source": [
    "ADF_test(a)"
   ]
  },
  {
   "cell_type": "code",
   "execution_count": null,
   "id": "ff12102a-ad8c-4741-8a03-25461625c613",
   "metadata": {},
   "outputs": [],
   "source": [
    "df_diff = a - a.shift()\n",
    "df_diff"
   ]
  },
  {
   "cell_type": "code",
   "execution_count": null,
   "id": "a547619b-ec0a-4eae-b692-0ca168071b3d",
   "metadata": {},
   "outputs": [],
   "source": [
    "def plot_df(data, color, alpha, label):\n",
    "    plt.figure(figsize=(11,5))\n",
    "    plt.plot(data, color=color, alpha=alpha, label=label)\n",
    "    plt.title('Mean Temperature of Bindukuri')\n",
    "    plt.ylabel('Mean temperature')\n",
    "    plt.legend()\n",
    "    plt.show()"
   ]
  },
  {
   "cell_type": "code",
   "execution_count": null,
   "id": "1158861f-db37-407d-a220-32ad4b24e998",
   "metadata": {},
   "outputs": [],
   "source": [
    "plot_df(df_diff, color='blue', alpha=0.25, label='differencing')"
   ]
  },
  {
   "cell_type": "code",
   "execution_count": null,
   "id": "d5369502-f131-4613-9e2f-5c73732de10d",
   "metadata": {},
   "outputs": [],
   "source": [
    "def plot_rolling(data, roll_size):\n",
    "    roll_mean = data.rolling(window=roll_size).mean()\n",
    "    roll_std = data.rolling(window=roll_size).std()\n",
    "\n",
    "    plt.figure(figsize=(11, 5))\n",
    "    plt.plot(data, color='blue', alpha=0.25, label='Original')\n",
    "    plt.plot(roll_mean, color='black', label='Rolling mean')\n",
    "    plt.plot(roll_std, color='red', label='Rolling std')\n",
    "    plt.title('Rolling Mean & Standard Deviation')\n",
    "    plt.ylabel('Mean Temperature')\n",
    "    plt.legend()\n",
    "    plt.show()\n",
    "\n",
    "plot_rolling(df_diff, 2)"
   ]
  },
  {
   "cell_type": "markdown",
   "id": "150f8c74-c86d-4db9-9736-1fed7004fbb5",
   "metadata": {},
   "source": [
    "#### 비정상 시계열일 경우"
   ]
  },
  {
   "cell_type": "code",
   "execution_count": null,
   "id": "99ac12aa-7553-4faa-9580-5a0f2344b4a1",
   "metadata": {},
   "outputs": [],
   "source": [
    "df_diff2 = a.diff().dropna()"
   ]
  },
  {
   "cell_type": "code",
   "execution_count": null,
   "id": "52d7b2ea-6a50-4663-88bf-9ea912d493ca",
   "metadata": {},
   "outputs": [],
   "source": [
    "ADF_test(df_diff2)"
   ]
  },
  {
   "cell_type": "code",
   "execution_count": null,
   "id": "9ebdb5aa-48db-49a3-a38e-b4e768724e29",
   "metadata": {},
   "outputs": [],
   "source": [
    "train = a.loc['2022-01-23':'2022-09-04']\n",
    "test = a.loc['2022-09-18':'2022-11-13']\n",
    "\n",
    "print('train data 개수 : ', len(train))\n",
    "print('test data 개수 : ', len(test))"
   ]
  },
  {
   "cell_type": "code",
   "execution_count": null,
   "id": "707c8faf-06f8-4b3f-ba5a-a3582274cd9e",
   "metadata": {},
   "outputs": [],
   "source": [
    "import pmdarima as pm\n",
    "\n",
    "kpss_diffs = pm.arima.ndiffs(train, alpha=0.05, test='kpss', max_d=5)\n",
    "adf_diffs = pm.arima.ndiffs(train, alpha=0.05, test='adf', max_d=5)\n",
    "n_diffs = max(kpss_diffs, adf_diffs)\n",
    "\n",
    "print(f\"Optimized 'd' = {n_diffs}\")"
   ]
  },
  {
   "cell_type": "code",
   "execution_count": null,
   "id": "b055e3d8-65b8-499f-9371-7b28e6d6e5ad",
   "metadata": {},
   "outputs": [],
   "source": [
    "auto_arima_model = pm.auto_arima(y=train,\n",
    "                                d=n_diffs,\n",
    "                                start_p=0,\n",
    "                                max_p=5,\n",
    "                                start_q=0,\n",
    "                                max_q=5,\n",
    "                                m=1,\n",
    "                                seasonal=False,\n",
    "                                stepwise=True,\n",
    "                                trace=True)"
   ]
  },
  {
   "cell_type": "code",
   "execution_count": null,
   "id": "14696db7-aac2-4734-84fe-3417de2f0f27",
   "metadata": {},
   "outputs": [],
   "source": [
    "model2 = pm.auto_arima(train, d=2, seasonal=False, trace=True)"
   ]
  },
  {
   "cell_type": "code",
   "execution_count": null,
   "id": "a59ecb1d-2c94-4a1f-805c-8e3467b0651e",
   "metadata": {},
   "outputs": [],
   "source": [
    "model2.summary()"
   ]
  },
  {
   "cell_type": "code",
   "execution_count": null,
   "id": "b84bf3c7-7a64-4332-ab72-36e3a5bb7231",
   "metadata": {},
   "outputs": [],
   "source": [
    "def one_step():\n",
    "    fc, conf = model2.predict(n_periods=1, return_conf_int=True)\n",
    "    return fc.tolist()[0], np.asarray(conf).tolist()[0]"
   ]
  },
  {
   "cell_type": "code",
   "execution_count": null,
   "id": "0c91a6e2-2670-4042-ae49-0839d817ba58",
   "metadata": {},
   "outputs": [],
   "source": [
    "y_pred = []\n",
    "\n",
    "for new_ob in test:\n",
    "    fc, conf = one_step()\n",
    "    y_pred.append(fc)\n",
    "    model2.update(new_ob)"
   ]
  },
  {
   "cell_type": "raw",
   "id": "b3d08011-6e96-46e0-a24b-cb3e9b718d2c",
   "metadata": {},
   "source": [
    "import pandas as pd\n",
    "import numpy as np\n",
    "import matplotlib.pyplot as plt\n",
    "\n",
    "import seaborn as sns\n",
    "import pmdarima as pm\n",
    "\n",
    "import warnings\n",
    "# 한글설치\n",
    "plt.rc('font', family = 'Malgun Gothic')\n",
    "\n",
    "# 음수표시\n",
    "plt.rc('axes', unicode_minus = False)\n",
    "\n",
    "# 실행결과 경고메세지 출력제외\n",
    "warnings.filterwarnings('ignore')\n",
    "\n",
    "from scipy import stats\n",
    "from statsmodels.stats.proportion import proportions_ztest\n",
    "\n",
    "df['주문일시'] = pd.to_datetime(df['주문일시'])\n",
    "\n",
    "ar = pd.pivot_table(data=df_smp, index='주문일시', columns='물품중분류', values='구매수량', aggfunc='size')\n",
    "ar = ar.fillna(0)\n",
    "\n",
    "df_2weeks = ar.resample('2W').sum()\n",
    "\n",
    "s = pd.DataFrame(df_2weeks.sum()).transpose()\n",
    "\n",
    "for i in s.columns:\n",
    "    if i == 0:\n",
    "        df_2weeks.drop()\n",
    "\n",
    "import statsmodels.tsa.api as tsa\n",
    "from statsmodels.tsa.arima.model import ARIMA\n",
    "from pylab import rcParams\n",
    "\n",
    "forcast = pd.DataFrame()\n",
    "model = ARIMA(df_2weeks['가공소금'], order=(0,1,1))\n",
    "model_fit = model.fit()\n",
    "forecast = model_fit.forecast(steps=4)\n",
    "forecast.columns = ['date', 'forecast_quantity']\n",
    "forecast['product'] = '가공소금'\n",
    "pd.DataFrame(forecast)\n",
    "\n",
    "df_or = df[df['유기신선'].str.contains('유기농')]\n",
    "\n",
    "df_pm = df_or.groupby('물품중분류')['구매수량'].sum()\n",
    "\n",
    "df_pm = df_pm.sort_values(by = '구매수량', ascending=False).head(30)\n",
    "\n",
    "df_pm = df_pm['구매수량'].reset_index()\n",
    "\n",
    "a = df_2weeks['애호박']\n",
    "\n",
    "from statsmodels.tsa.stattools import adfuller\n",
    "\n",
    "adfuller(a, autolag='AIC')\n",
    "\n",
    "def ADF_test(data):\n",
    "    results = adfuller(data, autolag='AIC')\n",
    "    s = results[0]\n",
    "    p = results[1]\n",
    "    cv = results[4]\n",
    "\n",
    "    print('-' * 30)\n",
    "    print('Augemented Dicket-Fuller Test')\n",
    "    print('H0 : 단위근이 존재한다(비정상 시계열)')\n",
    "    print('H1 : 단위근이 없다(정상 시계열)')\n",
    "    print('Critical Values : {}'.format(cv))\n",
    "    print('-'* 30)\n",
    "    print('Test Statistic : {:.4f}'.format(s))\n",
    "    print('p-value : {:.4f}'.format(p))\n",
    "    print('-'*30)\n",
    "\n",
    "ADF_test(a)\n",
    "\n",
    "df_diff = a - a.shift()\n",
    "df_diff\n",
    "\n",
    "def plot_df(data, color, alpha, label):\n",
    "    plt.figure(figsize=(11,5))\n",
    "    plt.plot(data, color=color, alpha=alpha, label=label)\n",
    "    plt.title('Mean Temperature of Bindukuri')\n",
    "    plt.ylabel('Mean temperature')\n",
    "    plt.legend()\n",
    "    plt.show()\n",
    "\n",
    "plot_df(df_diff, color='blue', alpha=0.25, label='differencing')\n",
    "\n",
    "def plot_rolling(data, roll_size):\n",
    "    roll_mean = data.rolling(window=roll_size).mean()\n",
    "    roll_std = data.rolling(window=roll_size).std()\n",
    "\n",
    "    plt.figure(figsize=(11, 5))\n",
    "    plt.plot(data, color='blue', alpha=0.25, label='Original')\n",
    "    plt.plot(roll_mean, color='black', label='Rolling mean')\n",
    "    plt.plot(roll_std, color='red', label='Rolling std')\n",
    "    plt.title('Rolling Mean & Standard Deviation')\n",
    "    plt.ylabel('Mean Temperature')\n",
    "    plt.legend()\n",
    "    plt.show()\n",
    "\n",
    "plot_rolling(df_diff, 2)\n",
    "\n",
    "#비정상 시계열일 경우\n",
    "df_diff2 = a.diff().dropna()\n",
    "ADF_test(df_diff2)\n",
    "train = a.loc['2022-01-23':'2022-09-04']\n",
    "test = a.loc['2022-09-18':'2022-11-13']\n",
    "\n",
    "print('train data 개수 : ', len(train))\n",
    "print('test data 개수 : ', len(test))\n",
    "import pmdarima as pm\n",
    "\n",
    "kpss_diffs = pm.arima.ndiffs(train, alpha=0.05, test='kpss', max_d=5)\n",
    "adf_diffs = pm.arima.ndiffs(train, alpha=0.05, test='adf', max_d=5)\n",
    "n_diffs = max(kpss_diffs, adf_diffs)\n",
    "\n",
    "print(f\"Optimized 'd' = {n_diffs}\")\n",
    "auto_arima_model = pm.auto_arima(y=train,\n",
    "                                d=n_diffs,\n",
    "                                start_p=0,\n",
    "                                max_p=5,\n",
    "                                start_q=0,\n",
    "                                max_q=5,\n",
    "                                m=1,\n",
    "                                seasonal=False,\n",
    "                                stepwise=True,\n",
    "                                trace=True)\n",
    "model2 = pm.auto_arima(train, d=2, seasonal=False, trace=True)\n",
    "model2.summary()\n",
    "def one_step():\n",
    "    fc, conf = model2.predict(n_periods=1, return_conf_int=True)\n",
    "    return fc.tolist()[0], np.asarray(conf).tolist()[0]\n",
    "y_pred = []\n",
    "\n",
    "for new_ob in test:\n",
    "    fc, conf = one_step()\n",
    "    y_pred.append(fc)\n",
    "    model2.update(new_ob)\n",
    "\n",
    "#학습 확인 지표\n",
    "from sklearn.metrics import mean_absolute_percentage_error\n",
    "print(f'MAPE: {mean_absolute_percentage_error(test, y_pred):.3f}')\n",
    "fig, axes = plt.subplots(3, 3, figsize=(12, 8))\n",
    "# for i, j in enumerate(df_pm['물품중분류']):\n",
    "print(sns.lineplot(data=ar, x='주문일시', y='스낵', ax=axes[0,0]))\n",
    "\n",
    "print(sns.lineplot(data=ar, x='주문일시', y='콩나물', ax=axes[1,0]))\n",
    "\n",
    "print(sns.lineplot(data=ar, x='주문일시', y='김가공', ax=axes[2,0]))\n",
    "\n",
    "print(sns.lineplot(data=ar, x='주문일시', y='과즙', ax=axes[0,1]))\n",
    "\n",
    "print(sns.lineplot(data=ar, x='주문일시', y='양파', ax=axes[1,1]))\n",
    "print(sns.lineplot(data=ar, x='주문일시', y='오이', ax=axes[2,1]))\n",
    "print(sns.lineplot(data=ar, x='주문일시', y='식빵, 식사대용', ax=axes[0,2]))\n",
    "print(sns.lineplot(data=ar, x='주문일시', y='당근', ax=axes[1,2]))\n",
    "print(sns.lineplot(data=ar, x='주문일시', y='가래떡', ax=axes[2,2]))"
   ]
  },
  {
   "cell_type": "markdown",
   "id": "dc29a9c8-f867-4a95-b2e8-ff1378dd3695",
   "metadata": {},
   "source": [
    "### 학습 확인 지표"
   ]
  },
  {
   "cell_type": "code",
   "execution_count": null,
   "id": "873d5f52-f573-4568-b50f-76341ba6a568",
   "metadata": {},
   "outputs": [],
   "source": [
    "from sklearn.metrics import mean_absolute_percentage_error\n",
    "print(f'MAPE: {mean_absolute_percentage_error(test, y_pred):.3f}')"
   ]
  },
  {
   "cell_type": "code",
   "execution_count": null,
   "id": "9e335829-4be1-4b5a-b632-dc0b35dca402",
   "metadata": {},
   "outputs": [],
   "source": [
    "fig, axes = plt.subplots(3, 3, figsize=(12, 8))\n",
    "# for i, j in enumerate(df_pm['물품중분류']):\n",
    "print(sns.lineplot(data=ar, x='주문일시', y='스낵', ax=axes[0,0]))\n",
    "\n",
    "print(sns.lineplot(data=ar, x='주문일시', y='콩나물', ax=axes[1,0]))\n",
    "\n",
    "print(sns.lineplot(data=ar, x='주문일시', y='김가공', ax=axes[2,0]))\n",
    "\n",
    "print(sns.lineplot(data=ar, x='주문일시', y='과즙', ax=axes[0,1]))\n",
    "\n",
    "print(sns.lineplot(data=ar, x='주문일시', y='양파', ax=axes[1,1]))\n",
    "print(sns.lineplot(data=ar, x='주문일시', y='오이', ax=axes[2,1]))\n",
    "print(sns.lineplot(data=ar, x='주문일시', y='식빵, 식사대용', ax=axes[0,2]))\n",
    "print(sns.lineplot(data=ar, x='주문일시', y='당근', ax=axes[1,2]))\n",
    "print(sns.lineplot(data=ar, x='주문일시', y='가래떡', ax=axes[2,2]))"
   ]
  },
  {
   "cell_type": "code",
   "execution_count": null,
   "id": "76195ed1-35bd-4739-bfff-c8315386024c",
   "metadata": {},
   "outputs": [],
   "source": []
  },
  {
   "cell_type": "code",
   "execution_count": null,
   "id": "f1fc7767-eda5-4adb-b4f9-fbe9a6901ae8",
   "metadata": {},
   "outputs": [],
   "source": []
  },
  {
   "cell_type": "code",
   "execution_count": null,
   "id": "e43f20ad-ddde-4114-ba95-54462242bcbf",
   "metadata": {},
   "outputs": [],
   "source": []
  },
  {
   "cell_type": "code",
   "execution_count": null,
   "id": "ad0f89ba-8f55-4607-bb4c-386559cd3f3d",
   "metadata": {},
   "outputs": [],
   "source": []
  },
  {
   "cell_type": "code",
   "execution_count": null,
   "id": "01e81d58-5421-4939-864a-e0660f6924cc",
   "metadata": {},
   "outputs": [],
   "source": []
  },
  {
   "cell_type": "code",
   "execution_count": null,
   "id": "62686b42-bbb7-47f0-8fa4-e476b6729026",
   "metadata": {},
   "outputs": [],
   "source": []
  },
  {
   "cell_type": "code",
   "execution_count": null,
   "id": "97bf1e45-ad49-4ff3-bfc4-0b83378de1f4",
   "metadata": {},
   "outputs": [],
   "source": []
  },
  {
   "cell_type": "code",
   "execution_count": null,
   "id": "0989969d-f223-436e-8d77-2119a1a98344",
   "metadata": {},
   "outputs": [],
   "source": []
  },
  {
   "cell_type": "code",
   "execution_count": null,
   "id": "0c3b5ab3-bd5f-45e5-b72c-5917a9a21214",
   "metadata": {},
   "outputs": [],
   "source": []
  }
 ],
 "metadata": {
  "kernelspec": {
   "display_name": "Python 3 (ipykernel)",
   "language": "python",
   "name": "python3"
  },
  "language_info": {
   "codemirror_mode": {
    "name": "ipython",
    "version": 3
   },
   "file_extension": ".py",
   "mimetype": "text/x-python",
   "name": "python",
   "nbconvert_exporter": "python",
   "pygments_lexer": "ipython3",
   "version": "3.11.7"
  }
 },
 "nbformat": 4,
 "nbformat_minor": 5
}
